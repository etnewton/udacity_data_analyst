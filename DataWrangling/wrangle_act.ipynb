{
 "cells": [
  {
   "cell_type": "markdown",
   "metadata": {},
   "source": [
    "# @dog_rates Data Wrangling Exercise\n",
    "\n",
    "## Introduction\n",
    "\n",
    "We will go through the steps of gathering, assessing and cleaning a set of tweets sent out from the @dog_rates user via twitter. We will end with doing some analysis on our cleaned dataset.\n",
    "\n",
    "## Table of Contents\n",
    "\n",
    "1. [Gathering Data](#gathering)\n",
    "2. [Data Assessing](#assess)<br>\n",
    "    2.1 [Tidiness](#tidy)<br>\n",
    "    2.2 [Quality Control](#qc)\n",
    "3. [Data Analysis](#analysis)"
   ]
  },
  {
   "cell_type": "markdown",
   "metadata": {},
   "source": [
    "## Gathering Data <a class=\"anchor\" id=\"gathering\"></a>\n",
    "\n",
    "We will utilize python's requests module to download the image prediction tsv file and save locally."
   ]
  },
  {
   "cell_type": "code",
   "execution_count": 1,
   "metadata": {},
   "outputs": [],
   "source": [
    "import requests"
   ]
  },
  {
   "cell_type": "code",
   "execution_count": 2,
   "metadata": {},
   "outputs": [],
   "source": [
    "image_pred_url = 'https://d17h27t6h515a5.cloudfront.net/topher/2017/August/599fd2ad_image-predictions/image-predictions.tsv'\n",
    "\n",
    "req = requests.get(image_pred_url)\n",
    "\n",
    "with open('image-predictions.tsv', 'wb') as file:\n",
    "    file.write(req.content)"
   ]
  },
  {
   "cell_type": "markdown",
   "metadata": {},
   "source": [
    "Now that we have our image prediction file we will use the tweepy module and pull the recount and favorite data points using the twitter api. As tweepy's statuses_lookup function will pull in the tweet info we will use that however it only can provide results for 100 tweets at a time. As such we will load in our twitter-archive-enhanced data and split into a list of lists with each containing 100 tweets. We will then iterate through that list."
   ]
  },
  {
   "cell_type": "markdown",
   "metadata": {},
   "source": [
    "First lets load in tweepy and initialize the api."
   ]
  },
  {
   "cell_type": "code",
   "execution_count": 3,
   "metadata": {},
   "outputs": [],
   "source": [
    "import tweepy\n",
    "\n",
    "API_KEY = 'you key here'\n",
    "API_KEY_SECRET = 'your secret key here'\n",
    "\n",
    "auth = tweepy.AppAuthHandler(API_KEY, API_KEY_SECRET)\n",
    "\n",
    "api = tweepy.API(auth, wait_on_rate_limit=True, wait_on_rate_limit_notify=True)"
   ]
  },
  {
   "cell_type": "markdown",
   "metadata": {},
   "source": [
    "Now we will load in our twitter-archive into a pandas dataframe and then split the tweet id column into a list of lists so we can process each batch as a 100 tweets at a time."
   ]
  },
  {
   "cell_type": "code",
   "execution_count": 4,
   "metadata": {},
   "outputs": [],
   "source": [
    "import pandas as pd\n",
    "\n",
    "twitter_archive = pd.read_csv('twitter-archive-enhanced.csv')\n",
    "\n",
    "search_tweets = twitter_archive['tweet_id'].tolist()\n",
    "\n",
    "chunks = [search_tweets[i * 100:(i + 1) * 100] for i in range((len(search_tweets) + 100 - 1) // 100 )]"
   ]
  },
  {
   "cell_type": "markdown",
   "metadata": {},
   "source": [
    "Now we need to iterate through the list of tweets and add each to a list of dictionarys. Then we will use json.dumps to write that list of dictionarys into a .txt file which we can read later instead of having to requery the twitter api."
   ]
  },
  {
   "cell_type": "code",
   "execution_count": 5,
   "metadata": {},
   "outputs": [],
   "source": [
    "import json\n",
    "\n",
    "tweets = []\n",
    "\n",
    "for chunk in chunks:\n",
    "    tweet_query = api.statuses_lookup(id_=chunk)\n",
    "    for tweet in tweet_query:\n",
    "        tweets.append(tweet._json)\n",
    "\n",
    "with open('tweet_json.txt', 'w') as file:\n",
    "    file.write(json.dumps(tweets))"
   ]
  },
  {
   "cell_type": "markdown",
   "metadata": {},
   "source": [
    "From here we will load in our offline files for assessing the data and ultimately cleaning it up."
   ]
  },
  {
   "cell_type": "code",
   "execution_count": 6,
   "metadata": {},
   "outputs": [],
   "source": [
    "import pandas as pd\n",
    "\n",
    "img_pred_df = pd.read_csv('image-predictions.tsv', sep='\\t')\n",
    "twitter_archive = pd.read_csv('twitter-archive-enhanced.csv')\n",
    "tweets = pd.read_json('tweet_json.txt')"
   ]
  },
  {
   "cell_type": "markdown",
   "metadata": {},
   "source": [
    "## Data Assessing<a class=\"anchor\" id=\"assess\"></a>\n",
    "\n",
    "Here we will begin our assessment of our tables.\n",
    "\n",
    "First I will focus on making the tables tidy. I will be focusing on the 2 tweet tables since there will be overlapping data.\n",
    "\n",
    "### Tidiness<a class=\"anchor\" id=\"tidy\"></a>"
   ]
  },
  {
   "cell_type": "code",
   "execution_count": 7,
   "metadata": {},
   "outputs": [
    {
     "name": "stdout",
     "output_type": "stream",
     "text": [
      "<class 'pandas.core.frame.DataFrame'>\n",
      "RangeIndex: 2356 entries, 0 to 2355\n",
      "Data columns (total 17 columns):\n",
      " #   Column                      Non-Null Count  Dtype  \n",
      "---  ------                      --------------  -----  \n",
      " 0   tweet_id                    2356 non-null   int64  \n",
      " 1   in_reply_to_status_id       78 non-null     float64\n",
      " 2   in_reply_to_user_id         78 non-null     float64\n",
      " 3   timestamp                   2356 non-null   object \n",
      " 4   source                      2356 non-null   object \n",
      " 5   text                        2356 non-null   object \n",
      " 6   retweeted_status_id         181 non-null    float64\n",
      " 7   retweeted_status_user_id    181 non-null    float64\n",
      " 8   retweeted_status_timestamp  181 non-null    object \n",
      " 9   expanded_urls               2297 non-null   object \n",
      " 10  rating_numerator            2356 non-null   int64  \n",
      " 11  rating_denominator          2356 non-null   int64  \n",
      " 12  name                        2356 non-null   object \n",
      " 13  doggo                       2356 non-null   object \n",
      " 14  floofer                     2356 non-null   object \n",
      " 15  pupper                      2356 non-null   object \n",
      " 16  puppo                       2356 non-null   object \n",
      "dtypes: float64(4), int64(3), object(10)\n",
      "memory usage: 313.0+ KB\n"
     ]
    }
   ],
   "source": [
    "twitter_archive.info()"
   ]
  },
  {
   "cell_type": "code",
   "execution_count": 8,
   "metadata": {},
   "outputs": [
    {
     "name": "stdout",
     "output_type": "stream",
     "text": [
      "<class 'pandas.core.frame.DataFrame'>\n",
      "RangeIndex: 2331 entries, 0 to 2330\n",
      "Data columns (total 29 columns):\n",
      " #   Column                     Non-Null Count  Dtype              \n",
      "---  ------                     --------------  -----              \n",
      " 0   created_at                 2331 non-null   datetime64[ns, UTC]\n",
      " 1   id                         2331 non-null   int64              \n",
      " 2   id_str                     2331 non-null   int64              \n",
      " 3   text                       2331 non-null   object             \n",
      " 4   truncated                  2331 non-null   bool               \n",
      " 5   entities                   2331 non-null   object             \n",
      " 6   source                     2331 non-null   object             \n",
      " 7   in_reply_to_status_id      77 non-null     float64            \n",
      " 8   in_reply_to_status_id_str  77 non-null     float64            \n",
      " 9   in_reply_to_user_id        77 non-null     float64            \n",
      " 10  in_reply_to_user_id_str    77 non-null     float64            \n",
      " 11  in_reply_to_screen_name    77 non-null     object             \n",
      " 12  user                       2331 non-null   object             \n",
      " 13  geo                        0 non-null      float64            \n",
      " 14  coordinates                0 non-null      float64            \n",
      " 15  place                      1 non-null      object             \n",
      " 16  contributors               0 non-null      float64            \n",
      " 17  is_quote_status            2331 non-null   bool               \n",
      " 18  retweet_count              2331 non-null   int64              \n",
      " 19  favorite_count             2331 non-null   int64              \n",
      " 20  favorited                  2331 non-null   bool               \n",
      " 21  retweeted                  2331 non-null   bool               \n",
      " 22  possibly_sensitive         2197 non-null   float64            \n",
      " 23  lang                       2331 non-null   object             \n",
      " 24  extended_entities          1816 non-null   object             \n",
      " 25  retweeted_status           163 non-null    object             \n",
      " 26  quoted_status_id           26 non-null     float64            \n",
      " 27  quoted_status_id_str       26 non-null     float64            \n",
      " 28  quoted_status              24 non-null     object             \n",
      "dtypes: bool(4), datetime64[ns, UTC](1), float64(10), int64(4), object(10)\n",
      "memory usage: 464.5+ KB\n"
     ]
    }
   ],
   "source": [
    "tweets.info()"
   ]
  },
  {
   "cell_type": "markdown",
   "metadata": {},
   "source": [
    "From the that pandas info we can see that these 2 tables share a lot of the same columns and are not tidy. Further from the raw tweet files we see that there are quite a few columns which I won't be using as they relate to replies or retweet information. From the raw tweets I will join the `retweet_count` and `favorite_count` to the archived data. I will define this tidiness issues as follows\n",
    "\n",
    "    - 2 different tables with duplicate/overlapping tweet data\n",
    "    - Retweet and reply data in the table when only main tweet information is required"
   ]
  },
  {
   "cell_type": "code",
   "execution_count": 9,
   "metadata": {},
   "outputs": [],
   "source": [
    "# Will use pandas merge to combine the 2 dataframes on the 2 shared keys \n",
    "# tweet_id for the archived dataframe and id on the data pulled through tweepy\n",
    "\n",
    "twitter_archive_enhanced = pd.merge(twitter_archive, tweets[['id', 'retweet_count', 'favorite_count']], \n",
    "         how='left', left_on=['tweet_id'], right_on=['id'])"
   ]
  },
  {
   "cell_type": "code",
   "execution_count": 10,
   "metadata": {},
   "outputs": [
    {
     "name": "stdout",
     "output_type": "stream",
     "text": [
      "<class 'pandas.core.frame.DataFrame'>\n",
      "Int64Index: 2356 entries, 0 to 2355\n",
      "Data columns (total 20 columns):\n",
      " #   Column                      Non-Null Count  Dtype  \n",
      "---  ------                      --------------  -----  \n",
      " 0   tweet_id                    2356 non-null   int64  \n",
      " 1   in_reply_to_status_id       78 non-null     float64\n",
      " 2   in_reply_to_user_id         78 non-null     float64\n",
      " 3   timestamp                   2356 non-null   object \n",
      " 4   source                      2356 non-null   object \n",
      " 5   text                        2356 non-null   object \n",
      " 6   retweeted_status_id         181 non-null    float64\n",
      " 7   retweeted_status_user_id    181 non-null    float64\n",
      " 8   retweeted_status_timestamp  181 non-null    object \n",
      " 9   expanded_urls               2297 non-null   object \n",
      " 10  rating_numerator            2356 non-null   int64  \n",
      " 11  rating_denominator          2356 non-null   int64  \n",
      " 12  name                        2356 non-null   object \n",
      " 13  doggo                       2356 non-null   object \n",
      " 14  floofer                     2356 non-null   object \n",
      " 15  pupper                      2356 non-null   object \n",
      " 16  puppo                       2356 non-null   object \n",
      " 17  id                          2331 non-null   float64\n",
      " 18  retweet_count               2331 non-null   float64\n",
      " 19  favorite_count              2331 non-null   float64\n",
      "dtypes: float64(7), int64(3), object(10)\n",
      "memory usage: 386.5+ KB\n"
     ]
    }
   ],
   "source": [
    "twitter_archive_enhanced.info()"
   ]
  },
  {
   "cell_type": "markdown",
   "metadata": {},
   "source": [
    "Now from the enhanced dataframe I am going drop columns which won't be specifically useful for looking at the main tweet. `id` will be dropped due to the fact it would be a duplicate of the `tweet_id` column. Additionally I am going to drop the retweeted columns and in_reply columns."
   ]
  },
  {
   "cell_type": "code",
   "execution_count": 11,
   "metadata": {},
   "outputs": [
    {
     "name": "stdout",
     "output_type": "stream",
     "text": [
      "<class 'pandas.core.frame.DataFrame'>\n",
      "Int64Index: 2356 entries, 0 to 2355\n",
      "Data columns (total 14 columns):\n",
      " #   Column              Non-Null Count  Dtype  \n",
      "---  ------              --------------  -----  \n",
      " 0   tweet_id            2356 non-null   int64  \n",
      " 1   timestamp           2356 non-null   object \n",
      " 2   source              2356 non-null   object \n",
      " 3   text                2356 non-null   object \n",
      " 4   expanded_urls       2297 non-null   object \n",
      " 5   rating_numerator    2356 non-null   int64  \n",
      " 6   rating_denominator  2356 non-null   int64  \n",
      " 7   name                2356 non-null   object \n",
      " 8   doggo               2356 non-null   object \n",
      " 9   floofer             2356 non-null   object \n",
      " 10  pupper              2356 non-null   object \n",
      " 11  puppo               2356 non-null   object \n",
      " 12  retweet_count       2331 non-null   float64\n",
      " 13  favorite_count      2331 non-null   float64\n",
      "dtypes: float64(2), int64(3), object(9)\n",
      "memory usage: 276.1+ KB\n"
     ]
    }
   ],
   "source": [
    "twitter_archive_enhanced.drop(columns=['id'], inplace=True)\n",
    "\n",
    "for col in twitter_archive_enhanced.columns:\n",
    "    if \"retweeted_\" in col or \"in_reply_\" in col:\n",
    "        twitter_archive_enhanced.drop(columns=[col], inplace=True)\n",
    "        \n",
    "twitter_archive_enhanced.info()"
   ]
  },
  {
   "cell_type": "markdown",
   "metadata": {},
   "source": [
    "Now we will look at the image predictions table. As this is predicting the breed of dog we want to use the highest predicted dog. Because there are records which are not predicted as a breed of dog we want to fall back if the highest predicted result is not a dog. For example if p1 is paper towel we fall back to p2 and if p2 is still not a dog we fall back to p3. If no predictions are dogs we will drop the record. I will define this tidiness correction as\n",
    "\n",
    "     - Remove multiple breed predictions and non-dog predictions from the image prediction table"
   ]
  },
  {
   "cell_type": "code",
   "execution_count": 12,
   "metadata": {},
   "outputs": [
    {
     "name": "stdout",
     "output_type": "stream",
     "text": [
      "<class 'pandas.core.frame.DataFrame'>\n",
      "Int64Index: 1751 entries, 0 to 2026\n",
      "Data columns (total 5 columns):\n",
      " #   Column           Non-Null Count  Dtype  \n",
      "---  ------           --------------  -----  \n",
      " 0   tweet_id         1751 non-null   int64  \n",
      " 1   jpg_url          1751 non-null   object \n",
      " 2   img_num          1751 non-null   int64  \n",
      " 3   prediction       1751 non-null   object \n",
      " 4   pred_confidence  1751 non-null   float64\n",
      "dtypes: float64(1), int64(2), object(2)\n",
      "memory usage: 82.1+ KB\n"
     ]
    }
   ],
   "source": [
    "#We will query the prediction dataframe for the 3 possibilities and join into a single new dataframe with prediction values\n",
    "\n",
    "\n",
    "p1_dog_predicts = img_pred_df.query('p1_dog==True')[['tweet_id', 'jpg_url', 'img_num', 'p1', 'p1_conf']].rename(columns={'p1': 'prediction', 'p1_conf': 'pred_confidence'})\n",
    "p2_dog_predicts = img_pred_df.query('p1_dog==False and p2_dog==True')[['tweet_id', 'jpg_url', 'img_num', 'p2', 'p2_conf']].rename(columns={'p2': 'prediction', 'p2_conf': 'pred_confidence'})\n",
    "p3_dog_predicts = img_pred_df.query('p1_dog==False and p2_dog==False and p3_dog==True')[['tweet_id', 'jpg_url', 'img_num', 'p3', 'p3_conf']].rename(columns={'p3': 'prediction', 'p3_conf': 'pred_confidence'})\n",
    "\n",
    "\n",
    "#take our 3 dataframes and concatenate them into a single dog prediction dataframe\n",
    "\n",
    "dog_predicts = pd.concat([p1_dog_predicts, p2_dog_predicts, p3_dog_predicts])\n",
    "\n",
    "dog_predicts.info()"
   ]
  },
  {
   "cell_type": "markdown",
   "metadata": {},
   "source": [
    "Finally because the image predictions relate to the same tweets we will join our tweet dataframe with our image predictions."
   ]
  },
  {
   "cell_type": "code",
   "execution_count": 13,
   "metadata": {},
   "outputs": [],
   "source": [
    "tweets_with_img_pred = pd.merge(twitter_archive_enhanced, dog_predicts, how='left',\n",
    "                                left_on=['tweet_id'], right_on=['tweet_id'])"
   ]
  },
  {
   "cell_type": "markdown",
   "metadata": {},
   "source": [
    "We will take this dataframe and go ahead and save to csv so we can reference it in the future."
   ]
  },
  {
   "cell_type": "code",
   "execution_count": 14,
   "metadata": {},
   "outputs": [],
   "source": [
    "tweets_with_img_pred.to_csv('twitter_archive_master.csv',index=False)"
   ]
  },
  {
   "cell_type": "markdown",
   "metadata": {},
   "source": [
    "Now that we have a tidy table to work with we will look into the quality within the dataframe."
   ]
  },
  {
   "cell_type": "markdown",
   "metadata": {},
   "source": [
    "### Quality Control<a class=\"anchor\" id=\"qc\"></a>\n",
    "\n",
    "Lets start by making a copy of our dataset to work on."
   ]
  },
  {
   "cell_type": "code",
   "execution_count": 15,
   "metadata": {},
   "outputs": [],
   "source": [
    "tweets_with_img_pred_clean = tweets_with_img_pred.copy()"
   ]
  },
  {
   "cell_type": "markdown",
   "metadata": {},
   "source": [
    "First I will use pandas info function to see if there are any datatypes which seem incorrect."
   ]
  },
  {
   "cell_type": "code",
   "execution_count": 16,
   "metadata": {},
   "outputs": [
    {
     "name": "stdout",
     "output_type": "stream",
     "text": [
      "<class 'pandas.core.frame.DataFrame'>\n",
      "Int64Index: 2356 entries, 0 to 2355\n",
      "Data columns (total 18 columns):\n",
      " #   Column              Non-Null Count  Dtype  \n",
      "---  ------              --------------  -----  \n",
      " 0   tweet_id            2356 non-null   int64  \n",
      " 1   timestamp           2356 non-null   object \n",
      " 2   source              2356 non-null   object \n",
      " 3   text                2356 non-null   object \n",
      " 4   expanded_urls       2297 non-null   object \n",
      " 5   rating_numerator    2356 non-null   int64  \n",
      " 6   rating_denominator  2356 non-null   int64  \n",
      " 7   name                2356 non-null   object \n",
      " 8   doggo               2356 non-null   object \n",
      " 9   floofer             2356 non-null   object \n",
      " 10  pupper              2356 non-null   object \n",
      " 11  puppo               2356 non-null   object \n",
      " 12  retweet_count       2331 non-null   float64\n",
      " 13  favorite_count      2331 non-null   float64\n",
      " 14  jpg_url             1751 non-null   object \n",
      " 15  img_num             1751 non-null   float64\n",
      " 16  prediction          1751 non-null   object \n",
      " 17  pred_confidence     1751 non-null   float64\n",
      "dtypes: float64(4), int64(3), object(11)\n",
      "memory usage: 349.7+ KB\n"
     ]
    }
   ],
   "source": [
    "tweets_with_img_pred_clean.info()"
   ]
  },
  {
   "cell_type": "markdown",
   "metadata": {},
   "source": [
    "From this it looks like the timestamp column is a string when it should be datetime. In addition when looking at doggo, floofer, pupper, puppo columns we would want to combine all into one column due to being a single dog state.\n",
    "\n",
    "   - Erroneous datatype for timestamp\n",
    "   - Multiple columns for dog state (doggo, floofer, pupper, puppo)"
   ]
  },
  {
   "cell_type": "markdown",
   "metadata": {},
   "source": [
    "We also notice from our info function call that there are N/As in our dataframe. For the image columns we see quite a few however we will leave those as is, as we purposely excluded non-dog predictions. However we do want to clean up the extended_urls and retweet/favorite_count columns.\n",
    "\n",
    "   - missing records for expanded_urls\n",
    "   - missing records for retweet_count and favorite_count"
   ]
  },
  {
   "cell_type": "markdown",
   "metadata": {},
   "source": [
    "Lets use pandas value_counts function on the rating columns. We know that based on how this account tweets the numerator should be greater than 10 and the denominator should be out of 10."
   ]
  },
  {
   "cell_type": "code",
   "execution_count": 17,
   "metadata": {},
   "outputs": [
    {
     "data": {
      "text/plain": [
       "10     2333\n",
       "11        3\n",
       "50        3\n",
       "80        2\n",
       "20        2\n",
       "2         1\n",
       "16        1\n",
       "40        1\n",
       "70        1\n",
       "15        1\n",
       "90        1\n",
       "110       1\n",
       "120       1\n",
       "130       1\n",
       "150       1\n",
       "170       1\n",
       "7         1\n",
       "0         1\n",
       "Name: rating_denominator, dtype: int64"
      ]
     },
     "execution_count": 17,
     "metadata": {},
     "output_type": "execute_result"
    }
   ],
   "source": [
    "tweets_with_img_pred_clean['rating_denominator'].value_counts()"
   ]
  },
  {
   "cell_type": "code",
   "execution_count": 18,
   "metadata": {},
   "outputs": [
    {
     "data": {
      "text/plain": [
       "20        1\n",
       "44        1\n",
       "50        1\n",
       "60        1\n",
       "165       1\n",
       "84        1\n",
       "88        1\n",
       "144       1\n",
       "26        1\n",
       "182       1\n",
       "666       1\n",
       "960       1\n",
       "1776      1\n",
       "17        1\n",
       "27        1\n",
       "45        1\n",
       "99        1\n",
       "143       1\n",
       "24        1\n",
       "204       1\n",
       "80        1\n",
       "121       1\n",
       "75        2\n",
       "15        2\n",
       "0         2\n",
       "420       2\n",
       "2         9\n",
       "1         9\n",
       "4        17\n",
       "3        19\n",
       "6        32\n",
       "5        37\n",
       "14       54\n",
       "7        55\n",
       "8       102\n",
       "9       158\n",
       "13      351\n",
       "10      461\n",
       "11      464\n",
       "12      558\n",
       "Name: rating_numerator, dtype: int64"
      ]
     },
     "execution_count": 18,
     "metadata": {},
     "output_type": "execute_result"
    }
   ],
   "source": [
    "tweets_with_img_pred_clean['rating_numerator'].value_counts().sort_values()"
   ]
  },
  {
   "cell_type": "markdown",
   "metadata": {},
   "source": [
    "In both cases we see issues with the data we will want to clean up.\n",
    "\n",
    "   - rating_numerator has values less than 10\n",
    "   \n",
    "   - rating_denominator has values not equal to 10\n",
    "    \n",
    "Finally lets look  at the source column as it appears to provide the source of the tweet, iphone, android, etc."
   ]
  },
  {
   "cell_type": "code",
   "execution_count": 19,
   "metadata": {},
   "outputs": [
    {
     "data": {
      "text/plain": [
       "<a href=\"https://about.twitter.com/products/tweetdeck\" rel=\"nofollow\">TweetDeck</a>      11\n",
       "<a href=\"http://twitter.com\" rel=\"nofollow\">Twitter Web Client</a>                       33\n",
       "<a href=\"http://vine.co\" rel=\"nofollow\">Vine - Make a Scene</a>                          91\n",
       "<a href=\"http://twitter.com/download/iphone\" rel=\"nofollow\">Twitter for iPhone</a>     2221\n",
       "Name: source, dtype: int64"
      ]
     },
     "execution_count": 19,
     "metadata": {},
     "output_type": "execute_result"
    }
   ],
   "source": [
    "tweets_with_img_pred_clean['source'].value_counts().sort_values()"
   ]
  },
  {
   "cell_type": "markdown",
   "metadata": {},
   "source": [
    "So we can see that there is a lot of additional infor we don't require. So we will clean up this so it shows only the 4 options used, TweetDeck, Web Client, Vine, iPhone.\n",
    "\n",
    "   - source column has unnecessary text"
   ]
  },
  {
   "cell_type": "markdown",
   "metadata": {},
   "source": [
    "Lets take a look at the predicted dog values in from the images."
   ]
  },
  {
   "cell_type": "code",
   "execution_count": 20,
   "metadata": {},
   "outputs": [
    {
     "name": "stdout",
     "output_type": "stream",
     "text": [
      "wire-haired_fox_terrier\n",
      "whippet\n",
      "vizsla\n",
      "toy_terrier\n",
      "toy_poodle\n",
      "standard_schnauzer\n",
      "standard_poodle\n",
      "soft-coated_wheaten_terrier\n",
      "silky_terrier\n",
      "schipperke\n",
      "redbone\n",
      "pug\n",
      "papillon\n",
      "miniature_schnauzer\n",
      "miniature_poodle\n",
      "miniature_pinscher\n",
      "malinois\n",
      "malamute\n",
      "kuvasz\n",
      "komondor\n",
      "kelpie\n",
      "keeshond\n",
      "groenendael\n",
      "golden_retriever\n",
      "giant_schnauzer\n",
      "flat-coated_retriever\n",
      "dalmatian\n",
      "curly-coated_retriever\n",
      "collie\n",
      "cocker_spaniel\n",
      "clumber\n",
      "chow\n",
      "cairn\n",
      "bull_mastiff\n",
      "briard\n",
      "boxer\n",
      "borzoi\n",
      "bluetick\n",
      "bloodhound\n",
      "black-and-tan_coonhound\n",
      "beagle\n",
      "basset\n",
      "basenji\n",
      "Yorkshire_terrier\n",
      "West_Highland_white_terrier\n",
      "Welsh_springer_spaniel\n",
      "Weimaraner\n",
      "Walker_hound\n",
      "Tibetan_terrier\n",
      "Tibetan_mastiff\n",
      "Sussex_spaniel\n",
      "Staffordshire_bullterrier\n",
      "Siberian_husky\n",
      "Shih-Tzu\n",
      "Shetland_sheepdog\n",
      "Scottish_deerhound\n",
      "Scotch_terrier\n",
      "Samoyed\n",
      "Saluki\n",
      "Saint_Bernard\n",
      "Rottweiler\n",
      "Rhodesian_ridgeback\n",
      "Pomeranian\n",
      "Pembroke\n",
      "Pekinese\n",
      "Old_English_sheepdog\n",
      "Norwich_terrier\n",
      "Norwegian_elkhound\n",
      "Norfolk_terrier\n",
      "Newfoundland\n",
      "Mexican_hairless\n",
      "Maltese_dog\n",
      "Lhasa\n",
      "Leonberg\n",
      "Lakeland_terrier\n",
      "Labrador_retriever\n",
      "Japanese_spaniel\n",
      "Italian_greyhound\n",
      "Irish_wolfhound\n",
      "Irish_water_spaniel\n",
      "Irish_terrier\n",
      "Irish_setter\n",
      "Ibizan_hound\n",
      "Greater_Swiss_Mountain_dog\n",
      "Great_Pyrenees\n",
      "Great_Dane\n",
      "Gordon_setter\n",
      "German_short-haired_pointer\n",
      "German_shepherd\n",
      "French_bulldog\n",
      "Eskimo_dog\n",
      "EntleBucher\n",
      "English_springer\n",
      "English_setter\n",
      "Doberman\n",
      "Dandie_Dinmont\n",
      "Chihuahua\n",
      "Chesapeake_Bay_retriever\n",
      "Cardigan\n",
      "Brittany_spaniel\n",
      "Brabancon_griffon\n",
      "Bouvier_des_Flandres\n",
      "Boston_bull\n",
      "Border_terrier\n",
      "Border_collie\n",
      "Blenheim_spaniel\n",
      "Bernese_mountain_dog\n",
      "Bedlington_terrier\n",
      "Australian_terrier\n",
      "Appenzeller\n",
      "American_Staffordshire_terrier\n",
      "Airedale\n",
      "Afghan_hound\n"
     ]
    }
   ],
   "source": [
    "for i in tweets_with_img_pred_clean['prediction'].value_counts().sort_index(ascending=False).index:\n",
    "    print(i)\n"
   ]
  },
  {
   "cell_type": "markdown",
   "metadata": {},
   "source": [
    "Good news is I don't see any values that are duplicated due to string differences. However we do see some have capital letters and other do not. Let make all these values consistent by making them all lower case.\n",
    "\n",
    "   - set all predicted dog values to lower case strings"
   ]
  },
  {
   "cell_type": "markdown",
   "metadata": {},
   "source": [
    "Finally we want to remove any non-original tweets (no retweets or replies to tweets)\n",
    "\n",
    "   - remove retweets/replies"
   ]
  },
  {
   "cell_type": "markdown",
   "metadata": {},
   "source": [
    "So my complete list of quality issues to fix are\n",
    "\n",
    "   - Erroneous datatype for timestamp\n",
    "   - Multiple columns for dog state (doggo, floofer, pupper, puppo)\n",
    "   - missing records for expanded_urls\n",
    "   - missing records for retweet_count and favorite_count\n",
    "   - rating_numerator has values less than 10\n",
    "   - rating_denominator has values not equal to 10\n",
    "   - source column has unnecessary text\n",
    "   - set all predicted dog values to lower case strings\n",
    "   - remove retweets/replies\n",
    "    \n",
    "We will start with fixing the datatype issue on timestamp.\n",
    "\n",
    "### Define\n",
    "\n",
    "- Change the datatype for the timestamp column from a string to a datetime value\n",
    "\n",
    "### Code"
   ]
  },
  {
   "cell_type": "code",
   "execution_count": 21,
   "metadata": {},
   "outputs": [],
   "source": [
    "#to fix the timestamp we will use pandas to_datetime function\n",
    "tweets_with_img_pred_clean['timestamp'] = pd.to_datetime(tweets_with_img_pred_clean['timestamp'])"
   ]
  },
  {
   "cell_type": "markdown",
   "metadata": {},
   "source": [
    "### Test\n",
    "\n",
    "To test we will just now rerun our pandas info function."
   ]
  },
  {
   "cell_type": "code",
   "execution_count": 22,
   "metadata": {},
   "outputs": [
    {
     "name": "stdout",
     "output_type": "stream",
     "text": [
      "<class 'pandas.core.frame.DataFrame'>\n",
      "Int64Index: 2356 entries, 0 to 2355\n",
      "Data columns (total 18 columns):\n",
      " #   Column              Non-Null Count  Dtype              \n",
      "---  ------              --------------  -----              \n",
      " 0   tweet_id            2356 non-null   int64              \n",
      " 1   timestamp           2356 non-null   datetime64[ns, UTC]\n",
      " 2   source              2356 non-null   object             \n",
      " 3   text                2356 non-null   object             \n",
      " 4   expanded_urls       2297 non-null   object             \n",
      " 5   rating_numerator    2356 non-null   int64              \n",
      " 6   rating_denominator  2356 non-null   int64              \n",
      " 7   name                2356 non-null   object             \n",
      " 8   doggo               2356 non-null   object             \n",
      " 9   floofer             2356 non-null   object             \n",
      " 10  pupper              2356 non-null   object             \n",
      " 11  puppo               2356 non-null   object             \n",
      " 12  retweet_count       2331 non-null   float64            \n",
      " 13  favorite_count      2331 non-null   float64            \n",
      " 14  jpg_url             1751 non-null   object             \n",
      " 15  img_num             1751 non-null   float64            \n",
      " 16  prediction          1751 non-null   object             \n",
      " 17  pred_confidence     1751 non-null   float64            \n",
      "dtypes: datetime64[ns, UTC](1), float64(4), int64(3), object(10)\n",
      "memory usage: 349.7+ KB\n"
     ]
    }
   ],
   "source": [
    "tweets_with_img_pred_clean.info()"
   ]
  },
  {
   "cell_type": "markdown",
   "metadata": {},
   "source": [
    "Now lets fix the 4 dog state columns.\n",
    "\n",
    "### Define\n",
    "\n",
    "- Combine the 4 dog state columns into 1 single column representing all states the dog is in\n",
    "\n",
    "### Code"
   ]
  },
  {
   "cell_type": "code",
   "execution_count": 23,
   "metadata": {},
   "outputs": [
    {
     "data": {
      "text/plain": [
       "                1976\n",
       "pupper           245\n",
       "doggo             83\n",
       "puppo             29\n",
       "doggopupper       12\n",
       "floofer            9\n",
       "doggofloofer       1\n",
       "doggopuppo         1\n",
       "Name: dog_state, dtype: int64"
      ]
     },
     "execution_count": 23,
     "metadata": {},
     "output_type": "execute_result"
    }
   ],
   "source": [
    "#to fix the 4 flag columns we will set them as boolean columns. To do this as each column is None or the column header\n",
    "#I will just make the column equal to where the value is the column header\n",
    "\n",
    "for flag in ['doggo', 'floofer', 'pupper', 'puppo']:\n",
    "    tweets_with_img_pred_clean[flag].replace('None', '', inplace=True)\n",
    "    \n",
    "tweets_with_img_pred_clean['dog_state'] = tweets_with_img_pred_clean['doggo'] + tweets_with_img_pred_clean['floofer'] + tweets_with_img_pred_clean['pupper'] + tweets_with_img_pred_clean['puppo']\n",
    "\n",
    "#print the value counts so we can see which unique state values there are as some can overlap\n",
    "tweets_with_img_pred_clean['dog_state'].value_counts()"
   ]
  },
  {
   "cell_type": "code",
   "execution_count": 24,
   "metadata": {},
   "outputs": [
    {
     "data": {
      "text/plain": [
       "                 1976\n",
       "pupper            245\n",
       "doggo              83\n",
       "puppo              29\n",
       "doggo,pupper       12\n",
       "floofer             9\n",
       "doggo,floofer       1\n",
       "doggo,puppo         1\n",
       "Name: dog_state, dtype: int64"
      ]
     },
     "execution_count": 24,
     "metadata": {},
     "output_type": "execute_result"
    }
   ],
   "source": [
    "# will map the combined states to be more friendly by updating to seperate by a comma\n",
    "state_mapping = {\n",
    "    'doggopupper': 'doggo,pupper',\n",
    "    'doggofloofer': 'doggo,floofer',\n",
    "    'doggopuppo': 'doggo,puppo',\n",
    "    'pupper': 'pupper',\n",
    "    'puppo': 'puppo',\n",
    "    'doggo': 'doggo',\n",
    "    'floofer': 'floofer'\n",
    "}\n",
    "\n",
    "for key in state_mapping:\n",
    "    tweets_with_img_pred_clean.loc[tweets_with_img_pred_clean['dog_state'] == key, 'dog_state'] = state_mapping[key]\n",
    "    \n",
    "tweets_with_img_pred_clean['dog_state'].value_counts()"
   ]
  },
  {
   "cell_type": "markdown",
   "metadata": {},
   "source": [
    "### Test\n",
    "\n",
    "To test we deconstruct or new column into the original and compare to the original dataframe"
   ]
  },
  {
   "cell_type": "code",
   "execution_count": 25,
   "metadata": {},
   "outputs": [
    {
     "data": {
      "text/plain": [
       "True"
      ]
     },
     "execution_count": 25,
     "metadata": {},
     "output_type": "execute_result"
    }
   ],
   "source": [
    "state_test = tweets_with_img_pred_clean[['tweet_id', 'dog_state']]\n",
    "\n",
    "deconstruction = []\n",
    "for row in range(state_test.shape[0]):\n",
    "    record = {'tweet_id': state_test.iloc[row]['tweet_id']}\n",
    "    dog_states = state_test.iloc[row]['dog_state'].split(',')\n",
    "    if dog_states[0] != '':\n",
    "        for dog_state in dog_states:\n",
    "            record.update({dog_state: dog_state})\n",
    "    \n",
    "    deconstruction.append(record)\n",
    "\n",
    "    \n",
    "deconstruction = pd.DataFrame.from_dict(deconstruction).fillna('None')\n",
    "\n",
    "#compare this with or original dataframe\n",
    "deconstruction.equals(tweets_with_img_pred[['tweet_id', 'doggo', 'puppo', 'pupper', 'floofer']])"
   ]
  },
  {
   "cell_type": "markdown",
   "metadata": {},
   "source": [
    "Now that our test is good we will drop the 4 old columns from our clean up dataframe."
   ]
  },
  {
   "cell_type": "code",
   "execution_count": 26,
   "metadata": {},
   "outputs": [
    {
     "name": "stdout",
     "output_type": "stream",
     "text": [
      "<class 'pandas.core.frame.DataFrame'>\n",
      "Int64Index: 2356 entries, 0 to 2355\n",
      "Data columns (total 15 columns):\n",
      " #   Column              Non-Null Count  Dtype              \n",
      "---  ------              --------------  -----              \n",
      " 0   tweet_id            2356 non-null   int64              \n",
      " 1   timestamp           2356 non-null   datetime64[ns, UTC]\n",
      " 2   source              2356 non-null   object             \n",
      " 3   text                2356 non-null   object             \n",
      " 4   expanded_urls       2297 non-null   object             \n",
      " 5   rating_numerator    2356 non-null   int64              \n",
      " 6   rating_denominator  2356 non-null   int64              \n",
      " 7   name                2356 non-null   object             \n",
      " 8   retweet_count       2331 non-null   float64            \n",
      " 9   favorite_count      2331 non-null   float64            \n",
      " 10  jpg_url             1751 non-null   object             \n",
      " 11  img_num             1751 non-null   float64            \n",
      " 12  prediction          1751 non-null   object             \n",
      " 13  pred_confidence     1751 non-null   float64            \n",
      " 14  dog_state           2356 non-null   object             \n",
      "dtypes: datetime64[ns, UTC](1), float64(4), int64(3), object(7)\n",
      "memory usage: 294.5+ KB\n"
     ]
    }
   ],
   "source": [
    "tweets_with_img_pred_clean.drop(columns=['doggo', 'floofer', 'pupper', 'puppo'], inplace=True)\n",
    "\n",
    "tweets_with_img_pred_clean.info()"
   ]
  },
  {
   "cell_type": "markdown",
   "metadata": {},
   "source": [
    "The next issue I will fix is removing the retweets and replies.\n",
    "\n",
    "### Define\n",
    "\n",
    "- Remove columns and records which are related to retweets or replies\n",
    "\n",
    "I dropped the columns which identify those so I will have to reference back to the original dataframe to get the records which are retweets or replies to other tweets.\n",
    "\n",
    "\n",
    "### Code"
   ]
  },
  {
   "cell_type": "code",
   "execution_count": 27,
   "metadata": {},
   "outputs": [],
   "source": [
    "#first we reference the original dataframe and get the retweet/replies and then we will combine and then use a mask to remove\n",
    "#them from our dataframe\n",
    "reply_id = twitter_archive[~twitter_archive['in_reply_to_status_id'].isnull()]['tweet_id']\n",
    "retweet_id = twitter_archive[~twitter_archive['retweeted_status_id'].isnull()]['tweet_id']\n",
    "\n",
    "\n",
    "reply_retweet_id = pd.concat([reply_id, retweet_id])\n",
    "\n",
    "tweets_with_img_pred_clean = tweets_with_img_pred_clean[~tweets_with_img_pred_clean['tweet_id'].isin(reply_retweet_id)]\n"
   ]
  },
  {
   "cell_type": "markdown",
   "metadata": {},
   "source": [
    "### Test"
   ]
  },
  {
   "cell_type": "code",
   "execution_count": 28,
   "metadata": {},
   "outputs": [
    {
     "name": "stdout",
     "output_type": "stream",
     "text": [
      "<class 'pandas.core.frame.DataFrame'>\n",
      "Int64Index: 2097 entries, 0 to 2355\n",
      "Data columns (total 15 columns):\n",
      " #   Column              Non-Null Count  Dtype              \n",
      "---  ------              --------------  -----              \n",
      " 0   tweet_id            2097 non-null   int64              \n",
      " 1   timestamp           2097 non-null   datetime64[ns, UTC]\n",
      " 2   source              2097 non-null   object             \n",
      " 3   text                2097 non-null   object             \n",
      " 4   expanded_urls       2094 non-null   object             \n",
      " 5   rating_numerator    2097 non-null   int64              \n",
      " 6   rating_denominator  2097 non-null   int64              \n",
      " 7   name                2097 non-null   object             \n",
      " 8   retweet_count       2090 non-null   float64            \n",
      " 9   favorite_count      2090 non-null   float64            \n",
      " 10  jpg_url             1666 non-null   object             \n",
      " 11  img_num             1666 non-null   float64            \n",
      " 12  prediction          1666 non-null   object             \n",
      " 13  pred_confidence     1666 non-null   float64            \n",
      " 14  dog_state           2097 non-null   object             \n",
      "dtypes: datetime64[ns, UTC](1), float64(4), int64(3), object(7)\n",
      "memory usage: 262.1+ KB\n"
     ]
    }
   ],
   "source": [
    "tweets_with_img_pred_clean.info()"
   ]
  },
  {
   "cell_type": "markdown",
   "metadata": {},
   "source": [
    "Now I will make our dog predictions all lower case to be consistent.\n",
    "\n",
    "### Define\n",
    "\n",
    "- Update so all dog predictions are lower case\n",
    "\n",
    "### Code"
   ]
  },
  {
   "cell_type": "code",
   "execution_count": 29,
   "metadata": {},
   "outputs": [],
   "source": [
    "tweets_with_img_pred_clean['prediction'] =tweets_with_img_pred_clean['prediction'].str.lower()"
   ]
  },
  {
   "cell_type": "markdown",
   "metadata": {},
   "source": [
    "### Test\n",
    "\n",
    "We will print each and just do a visual inspection"
   ]
  },
  {
   "cell_type": "code",
   "execution_count": 30,
   "metadata": {},
   "outputs": [
    {
     "name": "stdout",
     "output_type": "stream",
     "text": [
      "yorkshire_terrier\n",
      "wire-haired_fox_terrier\n",
      "whippet\n",
      "west_highland_white_terrier\n",
      "welsh_springer_spaniel\n",
      "weimaraner\n",
      "walker_hound\n",
      "vizsla\n",
      "toy_terrier\n",
      "toy_poodle\n",
      "tibetan_terrier\n",
      "tibetan_mastiff\n",
      "sussex_spaniel\n",
      "standard_schnauzer\n",
      "standard_poodle\n",
      "staffordshire_bullterrier\n",
      "soft-coated_wheaten_terrier\n",
      "silky_terrier\n",
      "siberian_husky\n",
      "shih-tzu\n",
      "shetland_sheepdog\n",
      "scottish_deerhound\n",
      "scotch_terrier\n",
      "schipperke\n",
      "samoyed\n",
      "saluki\n",
      "saint_bernard\n",
      "rottweiler\n",
      "rhodesian_ridgeback\n",
      "redbone\n",
      "pug\n",
      "pomeranian\n",
      "pembroke\n",
      "pekinese\n",
      "papillon\n",
      "old_english_sheepdog\n",
      "norwich_terrier\n",
      "norwegian_elkhound\n",
      "norfolk_terrier\n",
      "newfoundland\n",
      "miniature_schnauzer\n",
      "miniature_poodle\n",
      "miniature_pinscher\n",
      "mexican_hairless\n",
      "maltese_dog\n",
      "malinois\n",
      "malamute\n",
      "lhasa\n",
      "leonberg\n",
      "lakeland_terrier\n",
      "labrador_retriever\n",
      "kuvasz\n",
      "komondor\n",
      "kelpie\n",
      "keeshond\n",
      "japanese_spaniel\n",
      "italian_greyhound\n",
      "irish_wolfhound\n",
      "irish_water_spaniel\n",
      "irish_terrier\n",
      "irish_setter\n",
      "ibizan_hound\n",
      "groenendael\n",
      "greater_swiss_mountain_dog\n",
      "great_pyrenees\n",
      "great_dane\n",
      "gordon_setter\n",
      "golden_retriever\n",
      "giant_schnauzer\n",
      "german_short-haired_pointer\n",
      "german_shepherd\n",
      "french_bulldog\n",
      "flat-coated_retriever\n",
      "eskimo_dog\n",
      "entlebucher\n",
      "english_springer\n",
      "english_setter\n",
      "doberman\n",
      "dandie_dinmont\n",
      "dalmatian\n",
      "curly-coated_retriever\n",
      "collie\n",
      "cocker_spaniel\n",
      "clumber\n",
      "chow\n",
      "chihuahua\n",
      "chesapeake_bay_retriever\n",
      "cardigan\n",
      "cairn\n",
      "bull_mastiff\n",
      "brittany_spaniel\n",
      "briard\n",
      "brabancon_griffon\n",
      "boxer\n",
      "bouvier_des_flandres\n",
      "boston_bull\n",
      "borzoi\n",
      "border_terrier\n",
      "border_collie\n",
      "bluetick\n",
      "bloodhound\n",
      "blenheim_spaniel\n",
      "black-and-tan_coonhound\n",
      "bernese_mountain_dog\n",
      "bedlington_terrier\n",
      "beagle\n",
      "basset\n",
      "basenji\n",
      "australian_terrier\n",
      "appenzeller\n",
      "american_staffordshire_terrier\n",
      "airedale\n",
      "afghan_hound\n"
     ]
    }
   ],
   "source": [
    "for i in tweets_with_img_pred_clean['prediction'].value_counts().sort_index(ascending=False).index:\n",
    "    print(i)"
   ]
  },
  {
   "cell_type": "markdown",
   "metadata": {},
   "source": [
    "So we have made a lot of progress quickly with our clean up efforts. Lets see what we have left.\n",
    "   \n",
    "   - ~~Erroneous datatype for timestamp~~\n",
    "   - ~~Multiple columns for dog state (doggo, floofer, pupper, puppo)~~\n",
    "   - missing records for expanded_urls\n",
    "   - missing records for retweet_count and favorite_count\n",
    "   - rating_numerator has values less than 10\n",
    "   - rating_denominator has values not equal to 10\n",
    "   - source column has unnecessary text\n",
    "   - ~~set all predicted dog values to lower case strings~~\n",
    "   - ~~remove retweets/replies~~"
   ]
  },
  {
   "cell_type": "markdown",
   "metadata": {},
   "source": [
    "Lets take care of the missing data next. \n",
    "\n",
    "### Define\n",
    "\n",
    "- Remove the missing records for expanded_urls\n",
    "\n",
    "### Code\n",
    "\n",
    "The number of records missing the 3 values are very small so lets take a look at them. I suspect based on how we joined the count information that the missing data for retweet/favorite count overlap of the same records so will check that first."
   ]
  },
  {
   "cell_type": "code",
   "execution_count": 31,
   "metadata": {},
   "outputs": [
    {
     "data": {
      "text/plain": [
       "0"
      ]
     },
     "execution_count": 31,
     "metadata": {},
     "output_type": "execute_result"
    }
   ],
   "source": [
    "(tweets_with_img_pred_clean.query('retweet_count.isnull()').index != tweets_with_img_pred_clean.query('favorite_count.isnull()').index).sum()"
   ]
  },
  {
   "cell_type": "markdown",
   "metadata": {},
   "source": [
    "We can see that they are all the same records so we will store those in a dataframe and we will store the missing expanded_urls in a dataframe for easy reference."
   ]
  },
  {
   "cell_type": "code",
   "execution_count": 32,
   "metadata": {},
   "outputs": [],
   "source": [
    "missing_ex_urls = tweets_with_img_pred_clean.query('expanded_urls.isnull()')"
   ]
  },
  {
   "cell_type": "code",
   "execution_count": 33,
   "metadata": {},
   "outputs": [],
   "source": [
    "missing_counts = tweets_with_img_pred_clean.query('retweet_count.isnull() or favorite_count.isnull()')"
   ]
  },
  {
   "cell_type": "code",
   "execution_count": 34,
   "metadata": {},
   "outputs": [
    {
     "data": {
      "text/html": [
       "<div>\n",
       "<style scoped>\n",
       "    .dataframe tbody tr th:only-of-type {\n",
       "        vertical-align: middle;\n",
       "    }\n",
       "\n",
       "    .dataframe tbody tr th {\n",
       "        vertical-align: top;\n",
       "    }\n",
       "\n",
       "    .dataframe thead th {\n",
       "        text-align: right;\n",
       "    }\n",
       "</style>\n",
       "<table border=\"1\" class=\"dataframe\">\n",
       "  <thead>\n",
       "    <tr style=\"text-align: right;\">\n",
       "      <th></th>\n",
       "      <th>tweet_id</th>\n",
       "      <th>timestamp</th>\n",
       "      <th>source</th>\n",
       "      <th>text</th>\n",
       "      <th>expanded_urls</th>\n",
       "      <th>rating_numerator</th>\n",
       "      <th>rating_denominator</th>\n",
       "      <th>name</th>\n",
       "      <th>retweet_count</th>\n",
       "      <th>favorite_count</th>\n",
       "      <th>jpg_url</th>\n",
       "      <th>img_num</th>\n",
       "      <th>prediction</th>\n",
       "      <th>pred_confidence</th>\n",
       "      <th>dog_state</th>\n",
       "    </tr>\n",
       "  </thead>\n",
       "  <tbody>\n",
       "    <tr>\n",
       "      <th>375</th>\n",
       "      <td>828361771580813312</td>\n",
       "      <td>2017-02-05 21:56:51+00:00</td>\n",
       "      <td>&lt;a href=\"http://twitter.com\" rel=\"nofollow\"&gt;Tw...</td>\n",
       "      <td>Beebop and Doobert should start a band 12/10 w...</td>\n",
       "      <td>NaN</td>\n",
       "      <td>12</td>\n",
       "      <td>10</td>\n",
       "      <td>None</td>\n",
       "      <td>172.0</td>\n",
       "      <td>2135.0</td>\n",
       "      <td>NaN</td>\n",
       "      <td>NaN</td>\n",
       "      <td>NaN</td>\n",
       "      <td>NaN</td>\n",
       "      <td></td>\n",
       "    </tr>\n",
       "    <tr>\n",
       "      <th>707</th>\n",
       "      <td>785515384317313025</td>\n",
       "      <td>2016-10-10 16:20:36+00:00</td>\n",
       "      <td>&lt;a href=\"http://twitter.com/download/iphone\" r...</td>\n",
       "      <td>Today, 10/10, should be National Dog Rates Day</td>\n",
       "      <td>NaN</td>\n",
       "      <td>10</td>\n",
       "      <td>10</td>\n",
       "      <td>None</td>\n",
       "      <td>1229.0</td>\n",
       "      <td>6027.0</td>\n",
       "      <td>NaN</td>\n",
       "      <td>NaN</td>\n",
       "      <td>NaN</td>\n",
       "      <td>NaN</td>\n",
       "      <td></td>\n",
       "    </tr>\n",
       "    <tr>\n",
       "      <th>1445</th>\n",
       "      <td>696518437233913856</td>\n",
       "      <td>2016-02-08 02:18:30+00:00</td>\n",
       "      <td>&lt;a href=\"http://twitter.com/download/iphone\" r...</td>\n",
       "      <td>Oh my god 10/10 for every little hot dog pupper</td>\n",
       "      <td>NaN</td>\n",
       "      <td>10</td>\n",
       "      <td>10</td>\n",
       "      <td>None</td>\n",
       "      <td>1647.0</td>\n",
       "      <td>3780.0</td>\n",
       "      <td>NaN</td>\n",
       "      <td>NaN</td>\n",
       "      <td>NaN</td>\n",
       "      <td>NaN</td>\n",
       "      <td>pupper</td>\n",
       "    </tr>\n",
       "  </tbody>\n",
       "</table>\n",
       "</div>"
      ],
      "text/plain": [
       "                tweet_id                 timestamp  \\\n",
       "375   828361771580813312 2017-02-05 21:56:51+00:00   \n",
       "707   785515384317313025 2016-10-10 16:20:36+00:00   \n",
       "1445  696518437233913856 2016-02-08 02:18:30+00:00   \n",
       "\n",
       "                                                 source  \\\n",
       "375   <a href=\"http://twitter.com\" rel=\"nofollow\">Tw...   \n",
       "707   <a href=\"http://twitter.com/download/iphone\" r...   \n",
       "1445  <a href=\"http://twitter.com/download/iphone\" r...   \n",
       "\n",
       "                                                   text expanded_urls  \\\n",
       "375   Beebop and Doobert should start a band 12/10 w...           NaN   \n",
       "707      Today, 10/10, should be National Dog Rates Day           NaN   \n",
       "1445    Oh my god 10/10 for every little hot dog pupper           NaN   \n",
       "\n",
       "      rating_numerator  rating_denominator  name  retweet_count  \\\n",
       "375                 12                  10  None          172.0   \n",
       "707                 10                  10  None         1229.0   \n",
       "1445                10                  10  None         1647.0   \n",
       "\n",
       "      favorite_count jpg_url  img_num prediction  pred_confidence dog_state  \n",
       "375           2135.0     NaN      NaN        NaN              NaN            \n",
       "707           6027.0     NaN      NaN        NaN              NaN            \n",
       "1445          3780.0     NaN      NaN        NaN              NaN    pupper  "
      ]
     },
     "execution_count": 34,
     "metadata": {},
     "output_type": "execute_result"
    }
   ],
   "source": [
    "missing_ex_urls"
   ]
  },
  {
   "cell_type": "markdown",
   "metadata": {},
   "source": [
    "There are only 3 records missing for expanded_urls so we will take a look at that issue first. First we need to understand what the expanded_urls are. So lets take a look at one which is not missing."
   ]
  },
  {
   "cell_type": "code",
   "execution_count": 35,
   "metadata": {},
   "outputs": [
    {
     "name": "stdout",
     "output_type": "stream",
     "text": [
      "891327558926688256\n",
      "https://twitter.com/dog_rates/status/891327558926688256/photo/1,https://twitter.com/dog_rates/status/891327558926688256/photo/1\n"
     ]
    }
   ],
   "source": [
    "for value in tweets_with_img_pred_clean.iloc[4][['tweet_id', 'expanded_urls']]:\n",
    "    print(value)"
   ]
  },
  {
   "cell_type": "markdown",
   "metadata": {},
   "source": [
    "What we see is that those expanded_urls values they are the url for the photo(s) of the dog being rated, or additional urls in the tweet. Because there are only 3 cases of this we can quickly just check those tweets. Upon a manual visualization of the tweet on twitter we see that all 3 of these tweets actually are not in reference to rating a dog but something dog related. As these 3 tweets do not relate directly to a dog rating instead of populating the missing expanded_urls we will drop the records from the dataframe."
   ]
  },
  {
   "cell_type": "code",
   "execution_count": 36,
   "metadata": {},
   "outputs": [],
   "source": [
    "tweets_with_img_pred_clean.drop(missing_ex_urls.index, axis=0, inplace=True)"
   ]
  },
  {
   "cell_type": "markdown",
   "metadata": {},
   "source": [
    "### Test"
   ]
  },
  {
   "cell_type": "code",
   "execution_count": 37,
   "metadata": {},
   "outputs": [
    {
     "name": "stdout",
     "output_type": "stream",
     "text": [
      "<class 'pandas.core.frame.DataFrame'>\n",
      "Int64Index: 2094 entries, 0 to 2355\n",
      "Data columns (total 15 columns):\n",
      " #   Column              Non-Null Count  Dtype              \n",
      "---  ------              --------------  -----              \n",
      " 0   tweet_id            2094 non-null   int64              \n",
      " 1   timestamp           2094 non-null   datetime64[ns, UTC]\n",
      " 2   source              2094 non-null   object             \n",
      " 3   text                2094 non-null   object             \n",
      " 4   expanded_urls       2094 non-null   object             \n",
      " 5   rating_numerator    2094 non-null   int64              \n",
      " 6   rating_denominator  2094 non-null   int64              \n",
      " 7   name                2094 non-null   object             \n",
      " 8   retweet_count       2087 non-null   float64            \n",
      " 9   favorite_count      2087 non-null   float64            \n",
      " 10  jpg_url             1666 non-null   object             \n",
      " 11  img_num             1666 non-null   float64            \n",
      " 12  prediction          1666 non-null   object             \n",
      " 13  pred_confidence     1666 non-null   float64            \n",
      " 14  dog_state           2094 non-null   object             \n",
      "dtypes: datetime64[ns, UTC](1), float64(4), int64(3), object(7)\n",
      "memory usage: 261.8+ KB\n"
     ]
    }
   ],
   "source": [
    "tweets_with_img_pred_clean.info()"
   ]
  },
  {
   "cell_type": "markdown",
   "metadata": {},
   "source": [
    "Now lets looks into the tweets missing retweet and favorite counts.\n",
    "\n",
    "### Define\n",
    "\n",
    "- Update or remove the records with missing retweet and favorite counts\n",
    "\n",
    "### Code\n",
    "\n",
    "Lets reference our missing counts that we stored earlier"
   ]
  },
  {
   "cell_type": "code",
   "execution_count": 38,
   "metadata": {},
   "outputs": [
    {
     "data": {
      "text/html": [
       "<div>\n",
       "<style scoped>\n",
       "    .dataframe tbody tr th:only-of-type {\n",
       "        vertical-align: middle;\n",
       "    }\n",
       "\n",
       "    .dataframe tbody tr th {\n",
       "        vertical-align: top;\n",
       "    }\n",
       "\n",
       "    .dataframe thead th {\n",
       "        text-align: right;\n",
       "    }\n",
       "</style>\n",
       "<table border=\"1\" class=\"dataframe\">\n",
       "  <thead>\n",
       "    <tr style=\"text-align: right;\">\n",
       "      <th></th>\n",
       "      <th>tweet_id</th>\n",
       "      <th>timestamp</th>\n",
       "      <th>source</th>\n",
       "      <th>text</th>\n",
       "      <th>expanded_urls</th>\n",
       "      <th>rating_numerator</th>\n",
       "      <th>rating_denominator</th>\n",
       "      <th>name</th>\n",
       "      <th>retweet_count</th>\n",
       "      <th>favorite_count</th>\n",
       "      <th>jpg_url</th>\n",
       "      <th>img_num</th>\n",
       "      <th>prediction</th>\n",
       "      <th>pred_confidence</th>\n",
       "      <th>dog_state</th>\n",
       "    </tr>\n",
       "  </thead>\n",
       "  <tbody>\n",
       "    <tr>\n",
       "      <th>104</th>\n",
       "      <td>872261713294495745</td>\n",
       "      <td>2017-06-07 01:19:32+00:00</td>\n",
       "      <td>&lt;a href=\"http://twitter.com/download/iphone\" r...</td>\n",
       "      <td>This is Harry. His ears are activated one at a...</td>\n",
       "      <td>https://twitter.com/dog_rates/status/872261713...</td>\n",
       "      <td>13</td>\n",
       "      <td>10</td>\n",
       "      <td>Harry</td>\n",
       "      <td>NaN</td>\n",
       "      <td>NaN</td>\n",
       "      <td>https://pbs.twimg.com/media/DBrlZk2UQAAfAkd.jpg</td>\n",
       "      <td>2.0</td>\n",
       "      <td>labrador_retriever</td>\n",
       "      <td>0.972019</td>\n",
       "      <td></td>\n",
       "    </tr>\n",
       "    <tr>\n",
       "      <th>253</th>\n",
       "      <td>844704788403113984</td>\n",
       "      <td>2017-03-23 00:18:10+00:00</td>\n",
       "      <td>&lt;a href=\"http://twitter.com/download/iphone\" r...</td>\n",
       "      <td>This is Luna. It's her first time outside and ...</td>\n",
       "      <td>https://twitter.com/dog_rates/status/844704788...</td>\n",
       "      <td>13</td>\n",
       "      <td>10</td>\n",
       "      <td>Luna</td>\n",
       "      <td>NaN</td>\n",
       "      <td>NaN</td>\n",
       "      <td>https://pbs.twimg.com/media/C7j-hkSW0AIxCZC.jpg</td>\n",
       "      <td>1.0</td>\n",
       "      <td>labrador_retriever</td>\n",
       "      <td>0.980213</td>\n",
       "      <td></td>\n",
       "    </tr>\n",
       "    <tr>\n",
       "      <th>296</th>\n",
       "      <td>837366284874571778</td>\n",
       "      <td>2017-03-02 18:17:34+00:00</td>\n",
       "      <td>&lt;a href=\"http://twitter.com/download/iphone\" r...</td>\n",
       "      <td>This is Lucy. She has a portrait of herself on...</td>\n",
       "      <td>https://twitter.com/dog_rates/status/837366284...</td>\n",
       "      <td>13</td>\n",
       "      <td>10</td>\n",
       "      <td>Lucy</td>\n",
       "      <td>NaN</td>\n",
       "      <td>NaN</td>\n",
       "      <td>https://pbs.twimg.com/media/C57sMJwXMAASBSx.jpg</td>\n",
       "      <td>1.0</td>\n",
       "      <td>american_staffordshire_terrier</td>\n",
       "      <td>0.660085</td>\n",
       "      <td></td>\n",
       "    </tr>\n",
       "    <tr>\n",
       "      <th>363</th>\n",
       "      <td>829374341691346946</td>\n",
       "      <td>2017-02-08 17:00:26+00:00</td>\n",
       "      <td>&lt;a href=\"http://twitter.com/download/iphone\" r...</td>\n",
       "      <td>This is Astrid. She's a guide doggo in trainin...</td>\n",
       "      <td>https://twitter.com/dog_rates/status/829374341...</td>\n",
       "      <td>13</td>\n",
       "      <td>10</td>\n",
       "      <td>Astrid</td>\n",
       "      <td>NaN</td>\n",
       "      <td>NaN</td>\n",
       "      <td>https://pbs.twimg.com/media/C4KHj-nWQAA3poV.jpg</td>\n",
       "      <td>1.0</td>\n",
       "      <td>staffordshire_bullterrier</td>\n",
       "      <td>0.757547</td>\n",
       "      <td>doggo</td>\n",
       "    </tr>\n",
       "    <tr>\n",
       "      <th>750</th>\n",
       "      <td>779123168116150273</td>\n",
       "      <td>2016-09-23 01:00:13+00:00</td>\n",
       "      <td>&lt;a href=\"http://twitter.com/download/iphone\" r...</td>\n",
       "      <td>This is Reggie. He hugs everyone he meets. 12/...</td>\n",
       "      <td>https://twitter.com/dog_rates/status/779123168...</td>\n",
       "      <td>12</td>\n",
       "      <td>10</td>\n",
       "      <td>Reggie</td>\n",
       "      <td>NaN</td>\n",
       "      <td>NaN</td>\n",
       "      <td>https://pbs.twimg.com/media/CtAAYizW8AAWzBZ.jpg</td>\n",
       "      <td>1.0</td>\n",
       "      <td>toy_poodle</td>\n",
       "      <td>0.431080</td>\n",
       "      <td></td>\n",
       "    </tr>\n",
       "    <tr>\n",
       "      <th>932</th>\n",
       "      <td>754011816964026368</td>\n",
       "      <td>2016-07-15 17:56:40+00:00</td>\n",
       "      <td>&lt;a href=\"http://twitter.com/download/iphone\" r...</td>\n",
       "      <td>This is Charlie. He pouts until he gets to go ...</td>\n",
       "      <td>https://twitter.com/dog_rates/status/754011816...</td>\n",
       "      <td>12</td>\n",
       "      <td>10</td>\n",
       "      <td>Charlie</td>\n",
       "      <td>NaN</td>\n",
       "      <td>NaN</td>\n",
       "      <td>https://pbs.twimg.com/media/CnbJuPoXEAAjcVF.jpg</td>\n",
       "      <td>1.0</td>\n",
       "      <td>french_bulldog</td>\n",
       "      <td>0.600985</td>\n",
       "      <td></td>\n",
       "    </tr>\n",
       "    <tr>\n",
       "      <th>1726</th>\n",
       "      <td>680055455951884288</td>\n",
       "      <td>2015-12-24 16:00:30+00:00</td>\n",
       "      <td>&lt;a href=\"https://about.twitter.com/products/tw...</td>\n",
       "      <td>Meet Sammy. At first I was like \"that's a snow...</td>\n",
       "      <td>https://twitter.com/dog_rates/status/680055455...</td>\n",
       "      <td>10</td>\n",
       "      <td>10</td>\n",
       "      <td>Sammy</td>\n",
       "      <td>NaN</td>\n",
       "      <td>NaN</td>\n",
       "      <td>https://pbs.twimg.com/media/CW-ZRC_WQAAyFrL.jpg</td>\n",
       "      <td>1.0</td>\n",
       "      <td>samoyed</td>\n",
       "      <td>0.995466</td>\n",
       "      <td></td>\n",
       "    </tr>\n",
       "  </tbody>\n",
       "</table>\n",
       "</div>"
      ],
      "text/plain": [
       "                tweet_id                 timestamp  \\\n",
       "104   872261713294495745 2017-06-07 01:19:32+00:00   \n",
       "253   844704788403113984 2017-03-23 00:18:10+00:00   \n",
       "296   837366284874571778 2017-03-02 18:17:34+00:00   \n",
       "363   829374341691346946 2017-02-08 17:00:26+00:00   \n",
       "750   779123168116150273 2016-09-23 01:00:13+00:00   \n",
       "932   754011816964026368 2016-07-15 17:56:40+00:00   \n",
       "1726  680055455951884288 2015-12-24 16:00:30+00:00   \n",
       "\n",
       "                                                 source  \\\n",
       "104   <a href=\"http://twitter.com/download/iphone\" r...   \n",
       "253   <a href=\"http://twitter.com/download/iphone\" r...   \n",
       "296   <a href=\"http://twitter.com/download/iphone\" r...   \n",
       "363   <a href=\"http://twitter.com/download/iphone\" r...   \n",
       "750   <a href=\"http://twitter.com/download/iphone\" r...   \n",
       "932   <a href=\"http://twitter.com/download/iphone\" r...   \n",
       "1726  <a href=\"https://about.twitter.com/products/tw...   \n",
       "\n",
       "                                                   text  \\\n",
       "104   This is Harry. His ears are activated one at a...   \n",
       "253   This is Luna. It's her first time outside and ...   \n",
       "296   This is Lucy. She has a portrait of herself on...   \n",
       "363   This is Astrid. She's a guide doggo in trainin...   \n",
       "750   This is Reggie. He hugs everyone he meets. 12/...   \n",
       "932   This is Charlie. He pouts until he gets to go ...   \n",
       "1726  Meet Sammy. At first I was like \"that's a snow...   \n",
       "\n",
       "                                          expanded_urls  rating_numerator  \\\n",
       "104   https://twitter.com/dog_rates/status/872261713...                13   \n",
       "253   https://twitter.com/dog_rates/status/844704788...                13   \n",
       "296   https://twitter.com/dog_rates/status/837366284...                13   \n",
       "363   https://twitter.com/dog_rates/status/829374341...                13   \n",
       "750   https://twitter.com/dog_rates/status/779123168...                12   \n",
       "932   https://twitter.com/dog_rates/status/754011816...                12   \n",
       "1726  https://twitter.com/dog_rates/status/680055455...                10   \n",
       "\n",
       "      rating_denominator     name  retweet_count  favorite_count  \\\n",
       "104                   10    Harry            NaN             NaN   \n",
       "253                   10     Luna            NaN             NaN   \n",
       "296                   10     Lucy            NaN             NaN   \n",
       "363                   10   Astrid            NaN             NaN   \n",
       "750                   10   Reggie            NaN             NaN   \n",
       "932                   10  Charlie            NaN             NaN   \n",
       "1726                  10    Sammy            NaN             NaN   \n",
       "\n",
       "                                              jpg_url  img_num  \\\n",
       "104   https://pbs.twimg.com/media/DBrlZk2UQAAfAkd.jpg      2.0   \n",
       "253   https://pbs.twimg.com/media/C7j-hkSW0AIxCZC.jpg      1.0   \n",
       "296   https://pbs.twimg.com/media/C57sMJwXMAASBSx.jpg      1.0   \n",
       "363   https://pbs.twimg.com/media/C4KHj-nWQAA3poV.jpg      1.0   \n",
       "750   https://pbs.twimg.com/media/CtAAYizW8AAWzBZ.jpg      1.0   \n",
       "932   https://pbs.twimg.com/media/CnbJuPoXEAAjcVF.jpg      1.0   \n",
       "1726  https://pbs.twimg.com/media/CW-ZRC_WQAAyFrL.jpg      1.0   \n",
       "\n",
       "                          prediction  pred_confidence dog_state  \n",
       "104               labrador_retriever         0.972019            \n",
       "253               labrador_retriever         0.980213            \n",
       "296   american_staffordshire_terrier         0.660085            \n",
       "363        staffordshire_bullterrier         0.757547     doggo  \n",
       "750                       toy_poodle         0.431080            \n",
       "932                   french_bulldog         0.600985            \n",
       "1726                         samoyed         0.995466            "
      ]
     },
     "execution_count": 38,
     "metadata": {},
     "output_type": "execute_result"
    }
   ],
   "source": [
    "missing_counts"
   ]
  },
  {
   "cell_type": "markdown",
   "metadata": {},
   "source": [
    "Due to the manageable number of records I did some manual investigation and these tweets do not exist. This could have been deleted after being tweeted. As such we will just drop these records from our dataframe."
   ]
  },
  {
   "cell_type": "code",
   "execution_count": 39,
   "metadata": {},
   "outputs": [],
   "source": [
    "tweets_with_img_pred_clean.drop(missing_counts.index, axis=0, inplace=True)"
   ]
  },
  {
   "cell_type": "markdown",
   "metadata": {},
   "source": [
    "### Test"
   ]
  },
  {
   "cell_type": "code",
   "execution_count": 40,
   "metadata": {},
   "outputs": [
    {
     "name": "stdout",
     "output_type": "stream",
     "text": [
      "<class 'pandas.core.frame.DataFrame'>\n",
      "Int64Index: 2087 entries, 0 to 2355\n",
      "Data columns (total 15 columns):\n",
      " #   Column              Non-Null Count  Dtype              \n",
      "---  ------              --------------  -----              \n",
      " 0   tweet_id            2087 non-null   int64              \n",
      " 1   timestamp           2087 non-null   datetime64[ns, UTC]\n",
      " 2   source              2087 non-null   object             \n",
      " 3   text                2087 non-null   object             \n",
      " 4   expanded_urls       2087 non-null   object             \n",
      " 5   rating_numerator    2087 non-null   int64              \n",
      " 6   rating_denominator  2087 non-null   int64              \n",
      " 7   name                2087 non-null   object             \n",
      " 8   retweet_count       2087 non-null   float64            \n",
      " 9   favorite_count      2087 non-null   float64            \n",
      " 10  jpg_url             1659 non-null   object             \n",
      " 11  img_num             1659 non-null   float64            \n",
      " 12  prediction          1659 non-null   object             \n",
      " 13  pred_confidence     1659 non-null   float64            \n",
      " 14  dog_state           2087 non-null   object             \n",
      "dtypes: datetime64[ns, UTC](1), float64(4), int64(3), object(7)\n",
      "memory usage: 260.9+ KB\n"
     ]
    }
   ],
   "source": [
    "tweets_with_img_pred_clean.info()"
   ]
  },
  {
   "cell_type": "markdown",
   "metadata": {},
   "source": [
    "Now we are to the fun part. We identified numerators below 10, when most should be above 10, and denominators that do not equal 10. So we will be focus on only the cases which fall outside these rules.\n",
    "\n",
    "### Define\n",
    "\n",
    "- Update denominators to reflect the right rating and be out of 10\n",
    "\n",
    "### Code\n",
    "\n",
    "First we will use the denominators since we would expect most to be out of 10."
   ]
  },
  {
   "cell_type": "code",
   "execution_count": 41,
   "metadata": {},
   "outputs": [
    {
     "name": "stdout",
     "output_type": "stream",
     "text": [
      "<class 'pandas.core.frame.DataFrame'>\n",
      "Int64Index: 17 entries, 433 to 2335\n",
      "Data columns (total 15 columns):\n",
      " #   Column              Non-Null Count  Dtype              \n",
      "---  ------              --------------  -----              \n",
      " 0   tweet_id            17 non-null     int64              \n",
      " 1   timestamp           17 non-null     datetime64[ns, UTC]\n",
      " 2   source              17 non-null     object             \n",
      " 3   text                17 non-null     object             \n",
      " 4   expanded_urls       17 non-null     object             \n",
      " 5   rating_numerator    17 non-null     int64              \n",
      " 6   rating_denominator  17 non-null     int64              \n",
      " 7   name                17 non-null     object             \n",
      " 8   retweet_count       17 non-null     float64            \n",
      " 9   favorite_count      17 non-null     float64            \n",
      " 10  jpg_url             16 non-null     object             \n",
      " 11  img_num             16 non-null     float64            \n",
      " 12  prediction          16 non-null     object             \n",
      " 13  pred_confidence     16 non-null     float64            \n",
      " 14  dog_state           17 non-null     object             \n",
      "dtypes: datetime64[ns, UTC](1), float64(4), int64(3), object(7)\n",
      "memory usage: 2.1+ KB\n"
     ]
    }
   ],
   "source": [
    "not_10_denominator = tweets_with_img_pred_clean.query('rating_denominator != 10')\n",
    "\n",
    "not_10_denominator.info()"
   ]
  },
  {
   "cell_type": "markdown",
   "metadata": {},
   "source": [
    "There are 17 cases of the denominator not equalling 10. Will examine the text for each of these tweets to see if this is an issue in the data extracted or is correct."
   ]
  },
  {
   "cell_type": "code",
   "execution_count": 42,
   "metadata": {},
   "outputs": [
    {
     "name": "stdout",
     "output_type": "stream",
     "text": [
      "The floofs have been released I repeat the floofs have been released. 84/70 https://t.co/NIYC820tmd \n",
      "\n",
      "Meet Sam. She smiles 24/7 &amp; secretly aspires to be a reindeer. \n",
      "Keep Sam smiling by clicking and sharing this link:\n",
      "https://t.co/98tB8y7y7t https://t.co/LouL5vdvxx \n",
      "\n",
      "Why does this never happen at my front door... 165/150 https://t.co/HmwrdfEfUE \n",
      "\n",
      "After so many requests, this is Bretagne. She was the last surviving 9/11 search dog, and our second ever 14/10. RIP https://t.co/XAVDNDaVgQ \n",
      "\n",
      "Say hello to this unbelievably well behaved squad of doggos. 204/170 would try to pet all at once https://t.co/yGQI3He3xv \n",
      "\n",
      "Happy 4/20 from the squad! 13/10 for all https://t.co/eV1diwds8a \n",
      "\n",
      "This is Bluebert. He just saw that both #FinalFur match ups are split 50/50. Amazed af. 11/10 https://t.co/Kky1DPG4iq \n",
      "\n",
      "Happy Saturday here's 9 puppers on a bench. 99/90 good work everybody https://t.co/mpvaVxKmc1 \n",
      "\n",
      "Here's a brigade of puppers. All look very prepared for whatever happens next. 80/80 https://t.co/0eb7R1Om12 \n",
      "\n",
      "From left to right:\n",
      "Cletus, Jerome, Alejandro, Burp, &amp; Titson\n",
      "None know where camera is. 45/50 would hug all at once https://t.co/sedre1ivTK \n",
      "\n",
      "Here is a whole flock of puppers.  60/50 I'll take the lot https://t.co/9dpcw6MdWa \n",
      "\n",
      "Happy Wednesday here's a bucket of pups. 44/40 would pet all at once https://t.co/HppvrYuamZ \n",
      "\n",
      "Someone help the girl is being mugged. Several are distracting her while two steal her shoes. Clever puppers 121/110 https://t.co/1zfnTJLt55 \n",
      "\n",
      "This is Darrel. He just robbed a 7/11 and is in a high speed police chase. Was just spotted by the helicopter 10/10 https://t.co/7EsP8LmSp5 \n",
      "\n",
      "IT'S PUPPERGEDDON. Total of 144/120 ...I think https://t.co/ZanVtAtvIq \n",
      "\n",
      "Here we have an entire platoon of puppers. Total score: 88/80 would pet all at once https://t.co/y93p6FLvVw \n",
      "\n",
      "This is an Albanian 3 1/2 legged  Episcopalian. Loves well-polished hardwood flooring. Penis on the collar. 9/10 https://t.co/d9NcXFKwLv \n",
      "\n"
     ]
    }
   ],
   "source": [
    "for i in range(17):\n",
    "    print(not_10_denominator.iloc[i]['text'], '\\n')"
   ]
  },
  {
   "cell_type": "markdown",
   "metadata": {},
   "source": [
    "From this I see some are valid but others looke to be pulling out the incorrect values, likely due to using regular expressions the first fraction found was pulled out. So we will pull out the correct value in addition to make this consistent we will adjust all so the denominator is out of 10, ie 121/110 will be 11/10.\n",
    "\n",
    "First lets devise a way to pull out the correct ratings then we will normalize to out of 10. Looking at each of the texts in cases where there are 2 fractions the rating is always the second one. So we will use regular expressions to pull out each of the fractions and if more than 2 use the second case."
   ]
  },
  {
   "cell_type": "code",
   "execution_count": 43,
   "metadata": {},
   "outputs": [],
   "source": [
    "import re\n",
    "\n",
    "ratings_clean = []\n",
    "\n",
    "for i in range(17):\n",
    "    tweet_id = not_10_denominator.iloc[i]['tweet_id']\n",
    "    ratings = re.findall(r'([0-9]+)\\/([0-9]+)', not_10_denominator.iloc[i]['text'])\n",
    "    if len(ratings) != 1:\n",
    "        rating_numerator = int(ratings[1][0])\n",
    "        rating_denominator = int(ratings[1][1])\n",
    "    else:\n",
    "        rating_numerator = int(ratings[0][0])\n",
    "        rating_denominator = int(ratings[0][1])\n",
    "    \n",
    "    if rating_denominator != 10:\n",
    "        norm = 10/rating_denominator\n",
    "        rating_numerator = rating_numerator * norm\n",
    "        #we will do the same transform on our denominator for sanity check as shoudl be out of 10\n",
    "        rating_denominator = rating_denominator * norm\n",
    "    \n",
    "    #we will append these values to our clean list and then update our dataframe with them\n",
    "    ratings_clean.append({\n",
    "        'tweet_id': tweet_id,\n",
    "        'rating_numerator': int(rating_numerator),\n",
    "        'rating_denominator': int(rating_denominator)\n",
    "    })"
   ]
  },
  {
   "cell_type": "markdown",
   "metadata": {},
   "source": [
    "Now we just need to update our existing dataframe with these cleaned ratings."
   ]
  },
  {
   "cell_type": "code",
   "execution_count": 44,
   "metadata": {},
   "outputs": [],
   "source": [
    "for i in ratings_clean:\n",
    "    tweets_with_img_pred_clean.loc[tweets_with_img_pred_clean['tweet_id']==i['tweet_id'],'rating_numerator'] = i['rating_numerator']\n",
    "    tweets_with_img_pred_clean.loc[tweets_with_img_pred_clean['tweet_id']==i['tweet_id'], 'rating_denominator'] = i['rating_denominator']"
   ]
  },
  {
   "cell_type": "markdown",
   "metadata": {},
   "source": [
    "### Test"
   ]
  },
  {
   "cell_type": "code",
   "execution_count": 45,
   "metadata": {},
   "outputs": [
    {
     "data": {
      "text/plain": [
       "10    2087\n",
       "Name: rating_denominator, dtype: int64"
      ]
     },
     "execution_count": 45,
     "metadata": {},
     "output_type": "execute_result"
    }
   ],
   "source": [
    "tweets_with_img_pred_clean['rating_denominator'].value_counts()"
   ]
  },
  {
   "cell_type": "markdown",
   "metadata": {},
   "source": [
    "Now we have all denominators out of 10 in our dataframe. Let us now look at the numerators under 10.\n",
    "\n",
    "### Define\n",
    "\n",
    "- Update any incorrect numerators in our numerator column\n",
    "\n",
    "### Code"
   ]
  },
  {
   "cell_type": "code",
   "execution_count": 46,
   "metadata": {},
   "outputs": [
    {
     "data": {
      "text/plain": [
       "9    154\n",
       "8     98\n",
       "7     51\n",
       "5     34\n",
       "6     32\n",
       "3     19\n",
       "4     15\n",
       "2      9\n",
       "1      4\n",
       "0      1\n",
       "Name: rating_numerator, dtype: int64"
      ]
     },
     "execution_count": 46,
     "metadata": {},
     "output_type": "execute_result"
    }
   ],
   "source": [
    "numerator_less_10 = tweets_with_img_pred_clean.query('rating_numerator < 10')\n",
    "\n",
    "numerator_less_10['rating_numerator'].value_counts()"
   ]
  },
  {
   "cell_type": "markdown",
   "metadata": {},
   "source": [
    "There are too many cases for us to manually look through because this is not a strict rule many of these are likely valid. We know we already fixed a few when we fixed the denominators. To see if there are any cases where there are 2 fractions in the text I will loop through similar to our denominator process to make sure the correct fraction was pulled in.\n",
    "\n",
    "Because there are far more cases and we don't know what we are working with for each case, the denominators we could see with our eyes but way to many to do this, we will use more robust loop to take the last case for our regex."
   ]
  },
  {
   "cell_type": "code",
   "execution_count": 47,
   "metadata": {},
   "outputs": [],
   "source": [
    "ratings_clean = []\n",
    "\n",
    "for i in range(numerator_less_10.shape[0]):\n",
    "    tweet_id = numerator_less_10.iloc[i]['tweet_id']\n",
    "    ratings = re.findall(r'([0-9]+)\\/([0-9]+)', numerator_less_10.iloc[i]['text'])\n",
    "    counts = len(ratings)\n",
    "    rating_numerator = int(ratings[counts - 1][0])\n",
    "    rating_denominator = int(ratings[counts - 1][1])\n",
    "\n",
    "    \n",
    "    #we will append these values to our clean list and then update our dataframe with them\n",
    "    ratings_clean.append({\n",
    "        'tweet_id': tweet_id,\n",
    "        'rating_numerator': int(rating_numerator),\n",
    "        'rating_denominator': int(rating_denominator)\n",
    "    })\n",
    "    \n",
    "for i in ratings_clean:\n",
    "    tweets_with_img_pred_clean.loc[tweets_with_img_pred['tweet_id']==i['tweet_id'],'rating_numerator'] = i['rating_numerator']\n",
    "    tweets_with_img_pred_clean.loc[tweets_with_img_pred['tweet_id']==i['tweet_id'], 'rating_denominator'] = i['rating_denominator']"
   ]
  },
  {
   "cell_type": "markdown",
   "metadata": {},
   "source": [
    "Now we will check if that clean up any of our numerators.\n",
    "\n",
    "### Test"
   ]
  },
  {
   "cell_type": "code",
   "execution_count": 48,
   "metadata": {},
   "outputs": [
    {
     "data": {
      "text/plain": [
       "9    152\n",
       "8     98\n",
       "7     50\n",
       "6     32\n",
       "5     32\n",
       "3     19\n",
       "4     14\n",
       "2     10\n",
       "1      5\n",
       "0      1\n",
       "Name: rating_numerator, dtype: int64"
      ]
     },
     "execution_count": 48,
     "metadata": {},
     "output_type": "execute_result"
    }
   ],
   "source": [
    "numerator_less_10 = tweets_with_img_pred_clean.query('rating_numerator < 10')\n",
    "\n",
    "numerator_less_10['rating_numerator'].value_counts()"
   ]
  },
  {
   "cell_type": "markdown",
   "metadata": {},
   "source": [
    "So this does look to have cleaned up a few of the cases not very many. However given that the rule is not strict with the numerator being greater than 10 we will consider what is there now as valid.\n",
    "\n",
    "Finally lets clean up our source column. \n",
    "\n",
    "### Define\n",
    "\n",
    "- Update the source column to remove the additional unneccessary markup text\n",
    "\n",
    "To do this we have alot of additional data but all we care about the actual source it came from.\n",
    "\n",
    "To do this I will create a mapping of the 4 values then apply that to the column.\n",
    "\n",
    "### Code"
   ]
  },
  {
   "cell_type": "code",
   "execution_count": 49,
   "metadata": {},
   "outputs": [],
   "source": [
    "mapping = {'<a href=\"https://about.twitter.com/products/tweetdeck\" rel=\"nofollow\">TweetDeck</a>':'TweetDeck',\n",
    "'<a href=\"http://twitter.com\" rel=\"nofollow\">Twitter Web Client</a>':'Web Client',\n",
    "'<a href=\"http://vine.co\" rel=\"nofollow\">Vine - Make a Scene</a>': 'Vine',\n",
    "'<a href=\"http://twitter.com/download/iphone\" rel=\"nofollow\">Twitter for iPhone</a>': 'iPhone'}\n",
    "\n",
    "tweets_with_img_pred_clean.replace({'source':mapping}, inplace=True)"
   ]
  },
  {
   "cell_type": "markdown",
   "metadata": {},
   "source": [
    "### Test"
   ]
  },
  {
   "cell_type": "code",
   "execution_count": 50,
   "metadata": {},
   "outputs": [
    {
     "data": {
      "text/plain": [
       "iPhone        1956\n",
       "Vine            91\n",
       "Web Client      30\n",
       "TweetDeck       10\n",
       "Name: source, dtype: int64"
      ]
     },
     "execution_count": 50,
     "metadata": {},
     "output_type": "execute_result"
    }
   ],
   "source": [
    "tweets_with_img_pred_clean['source'].value_counts()"
   ]
  },
  {
   "cell_type": "markdown",
   "metadata": {},
   "source": [
    "Now that we have cleaned up our data I have realized 2 additional things can be done to make it more tidy. One we can remove the `expanded_urls` completely as the `jpg_url` column has the image used for the prediction so we this would mean these are duplicated columns. Additionally we can drop the `rating_denominator` column as they are all out of 10 now, but we will rename our numerator to show it is out of 10.\n",
    "\n",
    "### Define\n",
    "\n",
    "- Remove unnecessary/duplicated data columns\n",
    "\n",
    "### Code"
   ]
  },
  {
   "cell_type": "code",
   "execution_count": 51,
   "metadata": {},
   "outputs": [],
   "source": [
    "tweets_with_img_pred_clean.drop(columns=['expanded_urls', 'rating_denominator'], inplace=True)\n",
    "\n",
    "tweets_with_img_pred_clean.rename(columns={'rating_numerator': 'rating_out_of_10'}, inplace=True)"
   ]
  },
  {
   "cell_type": "markdown",
   "metadata": {},
   "source": [
    "### Test"
   ]
  },
  {
   "cell_type": "code",
   "execution_count": 52,
   "metadata": {},
   "outputs": [
    {
     "name": "stdout",
     "output_type": "stream",
     "text": [
      "<class 'pandas.core.frame.DataFrame'>\n",
      "Int64Index: 2087 entries, 0 to 2355\n",
      "Data columns (total 13 columns):\n",
      " #   Column            Non-Null Count  Dtype              \n",
      "---  ------            --------------  -----              \n",
      " 0   tweet_id          2087 non-null   int64              \n",
      " 1   timestamp         2087 non-null   datetime64[ns, UTC]\n",
      " 2   source            2087 non-null   object             \n",
      " 3   text              2087 non-null   object             \n",
      " 4   rating_out_of_10  2087 non-null   int64              \n",
      " 5   name              2087 non-null   object             \n",
      " 6   retweet_count     2087 non-null   float64            \n",
      " 7   favorite_count    2087 non-null   float64            \n",
      " 8   jpg_url           1659 non-null   object             \n",
      " 9   img_num           1659 non-null   float64            \n",
      " 10  prediction        1659 non-null   object             \n",
      " 11  pred_confidence   1659 non-null   float64            \n",
      " 12  dog_state         2087 non-null   object             \n",
      "dtypes: datetime64[ns, UTC](1), float64(4), int64(2), object(6)\n",
      "memory usage: 228.3+ KB\n"
     ]
    }
   ],
   "source": [
    "tweets_with_img_pred_clean.info()"
   ]
  },
  {
   "cell_type": "markdown",
   "metadata": {},
   "source": [
    "Now that we have done that we will resave our clean dataframe into a csv for future reference."
   ]
  },
  {
   "cell_type": "code",
   "execution_count": 53,
   "metadata": {},
   "outputs": [],
   "source": [
    "tweets_with_img_pred_clean.to_csv('twitter_archive_master.csv',index=False)\n",
    "\n",
    "tweets_with_img_pred = pd.read_csv('twitter_archive_master.csv')"
   ]
  },
  {
   "cell_type": "markdown",
   "metadata": {},
   "source": [
    "## Data Analysis<a class=\"anchor\" id=\"analysis\"></a>"
   ]
  },
  {
   "cell_type": "markdown",
   "metadata": {},
   "source": [
    "No that we have our data wrangled lets take a look at what we are working with. I will look at the following items.\n",
    "\n",
    "- Which of the dog states (doggo, floofer, pupper, puppo) result in a higher retweet and favorite count?\n",
    "- Does the rating appear to lead to a higher retweet and favorite count?\n",
    "- Of the predicted dog breeds which has the highest rating?\n",
    "\n",
    "To ask these questions we will look at descriptive statistics, along with logistic regression, and utilize some graphs."
   ]
  },
  {
   "cell_type": "code",
   "execution_count": 54,
   "metadata": {
    "scrolled": true
   },
   "outputs": [
    {
     "data": {
      "text/html": [
       "<div>\n",
       "<style scoped>\n",
       "    .dataframe tbody tr th:only-of-type {\n",
       "        vertical-align: middle;\n",
       "    }\n",
       "\n",
       "    .dataframe tbody tr th {\n",
       "        vertical-align: top;\n",
       "    }\n",
       "\n",
       "    .dataframe thead th {\n",
       "        text-align: right;\n",
       "    }\n",
       "</style>\n",
       "<table border=\"1\" class=\"dataframe\">\n",
       "  <thead>\n",
       "    <tr style=\"text-align: right;\">\n",
       "      <th></th>\n",
       "      <th>retweet_count</th>\n",
       "      <th>favorite_count</th>\n",
       "    </tr>\n",
       "    <tr>\n",
       "      <th>dog_state</th>\n",
       "      <th></th>\n",
       "      <th></th>\n",
       "    </tr>\n",
       "  </thead>\n",
       "  <tbody>\n",
       "    <tr>\n",
       "      <th>doggo</th>\n",
       "      <td>5794.591549</td>\n",
       "      <td>16973.197183</td>\n",
       "    </tr>\n",
       "    <tr>\n",
       "      <th>doggo,floofer</th>\n",
       "      <td>2936.000000</td>\n",
       "      <td>15396.000000</td>\n",
       "    </tr>\n",
       "    <tr>\n",
       "      <th>doggo,pupper</th>\n",
       "      <td>3747.333333</td>\n",
       "      <td>12519.555556</td>\n",
       "    </tr>\n",
       "    <tr>\n",
       "      <th>doggo,puppo</th>\n",
       "      <td>16789.000000</td>\n",
       "      <td>43323.000000</td>\n",
       "    </tr>\n",
       "    <tr>\n",
       "      <th>floofer</th>\n",
       "      <td>3494.111111</td>\n",
       "      <td>9772.000000</td>\n",
       "    </tr>\n",
       "    <tr>\n",
       "      <th>pupper</th>\n",
       "      <td>2111.104545</td>\n",
       "      <td>6499.518182</td>\n",
       "    </tr>\n",
       "    <tr>\n",
       "      <th>puppo</th>\n",
       "      <td>5686.347826</td>\n",
       "      <td>20286.956522</td>\n",
       "    </tr>\n",
       "  </tbody>\n",
       "</table>\n",
       "</div>"
      ],
      "text/plain": [
       "               retweet_count  favorite_count\n",
       "dog_state                                   \n",
       "doggo            5794.591549    16973.197183\n",
       "doggo,floofer    2936.000000    15396.000000\n",
       "doggo,pupper     3747.333333    12519.555556\n",
       "doggo,puppo     16789.000000    43323.000000\n",
       "floofer          3494.111111     9772.000000\n",
       "pupper           2111.104545     6499.518182\n",
       "puppo            5686.347826    20286.956522"
      ]
     },
     "execution_count": 54,
     "metadata": {},
     "output_type": "execute_result"
    }
   ],
   "source": [
    "tweets_with_img_pred.groupby('dog_state')[['retweet_count', 'favorite_count']].mean()"
   ]
  },
  {
   "cell_type": "markdown",
   "metadata": {},
   "source": [
    "We see from this that the puppo flag appears to have the mean for both retweet and favorite counts.\n",
    "\n",
    "Let's fit a quick linear regression model to see how they predict both retweet and favorite counts."
   ]
  },
  {
   "cell_type": "code",
   "execution_count": 55,
   "metadata": {},
   "outputs": [
    {
     "name": "stderr",
     "output_type": "stream",
     "text": [
      "<ipython-input-55-0213c73e5376>:5: SettingWithCopyWarning: \n",
      "A value is trying to be set on a copy of a slice from a DataFrame.\n",
      "Try using .loc[row_indexer,col_indexer] = value instead\n",
      "\n",
      "See the caveats in the documentation: https://pandas.pydata.org/pandas-docs/stable/user_guide/indexing.html#returning-a-view-versus-a-copy\n",
      "  model_data['intercept'] = 1\n"
     ]
    }
   ],
   "source": [
    "import statsmodels.api as sm\n",
    "\n",
    "model_data = tweets_with_img_pred[['dog_state', 'retweet_count', 'favorite_count']]\n",
    "\n",
    "model_data['intercept'] = 1\n",
    "\n",
    "model_data = pd.concat([model_data, pd.get_dummies(model_data['dog_state'])], axis=1)\n",
    "\n",
    "# we will not use to doggo column to be full rank\n",
    "model_retweet = sm.OLS(model_data['retweet_count'], model_data[['pupper', 'puppo', 'floofer', 'doggo,floofer', 'doggo,pupper', 'doggo,puppo','intercept']].astype(int))\n",
    "model_favorite = sm.OLS(model_data['favorite_count'], model_data[['pupper', 'puppo', 'floofer', 'doggo,floofer', 'doggo,pupper', 'doggo,puppo', 'intercept']].astype(int))\n",
    "\n",
    "results_retweet = model_retweet.fit()\n",
    "results_favorite = model_favorite.fit()"
   ]
  },
  {
   "cell_type": "code",
   "execution_count": 56,
   "metadata": {},
   "outputs": [
    {
     "data": {
      "text/html": [
       "<table class=\"simpletable\">\n",
       "<caption>OLS Regression Results</caption>\n",
       "<tr>\n",
       "  <th>Dep. Variable:</th>      <td>retweet_count</td>  <th>  R-squared:         </th> <td>   0.013</td> \n",
       "</tr>\n",
       "<tr>\n",
       "  <th>Model:</th>                   <td>OLS</td>       <th>  Adj. R-squared:    </th> <td>   0.010</td> \n",
       "</tr>\n",
       "<tr>\n",
       "  <th>Method:</th>             <td>Least Squares</td>  <th>  F-statistic:       </th> <td>   4.687</td> \n",
       "</tr>\n",
       "<tr>\n",
       "  <th>Date:</th>             <td>Sat, 20 Feb 2021</td> <th>  Prob (F-statistic):</th> <td>9.55e-05</td> \n",
       "</tr>\n",
       "<tr>\n",
       "  <th>Time:</th>                 <td>17:11:24</td>     <th>  Log-Likelihood:    </th> <td> -20378.</td> \n",
       "</tr>\n",
       "<tr>\n",
       "  <th>No. Observations:</th>      <td>  2087</td>      <th>  AIC:               </th> <td>4.077e+04</td>\n",
       "</tr>\n",
       "<tr>\n",
       "  <th>Df Residuals:</th>          <td>  2080</td>      <th>  BIC:               </th> <td>4.081e+04</td>\n",
       "</tr>\n",
       "<tr>\n",
       "  <th>Df Model:</th>              <td>     6</td>      <th>                     </th>     <td> </td>    \n",
       "</tr>\n",
       "<tr>\n",
       "  <th>Covariance Type:</th>      <td>nonrobust</td>    <th>                     </th>     <td> </td>    \n",
       "</tr>\n",
       "</table>\n",
       "<table class=\"simpletable\">\n",
       "<tr>\n",
       "        <td></td>           <th>coef</th>     <th>std err</th>      <th>t</th>      <th>P>|t|</th>  <th>[0.025</th>    <th>0.975]</th>  \n",
       "</tr>\n",
       "<tr>\n",
       "  <th>pupper</th>        <td> -287.1882</td> <td>  300.988</td> <td>   -0.954</td> <td> 0.340</td> <td> -877.458</td> <td>  303.081</td>\n",
       "</tr>\n",
       "<tr>\n",
       "  <th>puppo</th>         <td> 3288.0551</td> <td>  884.891</td> <td>    3.716</td> <td> 0.000</td> <td> 1552.690</td> <td> 5023.420</td>\n",
       "</tr>\n",
       "<tr>\n",
       "  <th>floofer</th>       <td> 1095.8183</td> <td> 1409.225</td> <td>    0.778</td> <td> 0.437</td> <td>-1667.820</td> <td> 3859.457</td>\n",
       "</tr>\n",
       "<tr>\n",
       "  <th>doggo,floofer</th> <td>  537.7072</td> <td> 4218.440</td> <td>    0.127</td> <td> 0.899</td> <td>-7735.097</td> <td> 8810.511</td>\n",
       "</tr>\n",
       "<tr>\n",
       "  <th>doggo,pupper</th>  <td> 1349.0406</td> <td> 1409.225</td> <td>    0.957</td> <td> 0.339</td> <td>-1414.598</td> <td> 4112.679</td>\n",
       "</tr>\n",
       "<tr>\n",
       "  <th>doggo,puppo</th>   <td> 1.439e+04</td> <td> 4218.440</td> <td>    3.411</td> <td> 0.001</td> <td> 6117.903</td> <td> 2.27e+04</td>\n",
       "</tr>\n",
       "<tr>\n",
       "  <th>intercept</th>     <td> 2398.2928</td> <td>   98.746</td> <td>   24.287</td> <td> 0.000</td> <td> 2204.641</td> <td> 2591.944</td>\n",
       "</tr>\n",
       "</table>\n",
       "<table class=\"simpletable\">\n",
       "<tr>\n",
       "  <th>Omnibus:</th>       <td>2701.010</td> <th>  Durbin-Watson:     </th>  <td>   1.741</td> \n",
       "</tr>\n",
       "<tr>\n",
       "  <th>Prob(Omnibus):</th>  <td> 0.000</td>  <th>  Jarque-Bera (JB):  </th> <td>547814.330</td>\n",
       "</tr>\n",
       "<tr>\n",
       "  <th>Skew:</th>           <td> 6.992</td>  <th>  Prob(JB):          </th>  <td>    0.00</td> \n",
       "</tr>\n",
       "<tr>\n",
       "  <th>Kurtosis:</th>       <td>81.129</td>  <th>  Cond. No.          </th>  <td>    46.0</td> \n",
       "</tr>\n",
       "</table><br/><br/>Notes:<br/>[1] Standard Errors assume that the covariance matrix of the errors is correctly specified."
      ],
      "text/plain": [
       "<class 'statsmodels.iolib.summary.Summary'>\n",
       "\"\"\"\n",
       "                            OLS Regression Results                            \n",
       "==============================================================================\n",
       "Dep. Variable:          retweet_count   R-squared:                       0.013\n",
       "Model:                            OLS   Adj. R-squared:                  0.010\n",
       "Method:                 Least Squares   F-statistic:                     4.687\n",
       "Date:                Sat, 20 Feb 2021   Prob (F-statistic):           9.55e-05\n",
       "Time:                        17:11:24   Log-Likelihood:                -20378.\n",
       "No. Observations:                2087   AIC:                         4.077e+04\n",
       "Df Residuals:                    2080   BIC:                         4.081e+04\n",
       "Df Model:                           6                                         \n",
       "Covariance Type:            nonrobust                                         \n",
       "=================================================================================\n",
       "                    coef    std err          t      P>|t|      [0.025      0.975]\n",
       "---------------------------------------------------------------------------------\n",
       "pupper         -287.1882    300.988     -0.954      0.340    -877.458     303.081\n",
       "puppo          3288.0551    884.891      3.716      0.000    1552.690    5023.420\n",
       "floofer        1095.8183   1409.225      0.778      0.437   -1667.820    3859.457\n",
       "doggo,floofer   537.7072   4218.440      0.127      0.899   -7735.097    8810.511\n",
       "doggo,pupper   1349.0406   1409.225      0.957      0.339   -1414.598    4112.679\n",
       "doggo,puppo    1.439e+04   4218.440      3.411      0.001    6117.903    2.27e+04\n",
       "intercept      2398.2928     98.746     24.287      0.000    2204.641    2591.944\n",
       "==============================================================================\n",
       "Omnibus:                     2701.010   Durbin-Watson:                   1.741\n",
       "Prob(Omnibus):                  0.000   Jarque-Bera (JB):           547814.330\n",
       "Skew:                           6.992   Prob(JB):                         0.00\n",
       "Kurtosis:                      81.129   Cond. No.                         46.0\n",
       "==============================================================================\n",
       "\n",
       "Notes:\n",
       "[1] Standard Errors assume that the covariance matrix of the errors is correctly specified.\n",
       "\"\"\""
      ]
     },
     "execution_count": 56,
     "metadata": {},
     "output_type": "execute_result"
    }
   ],
   "source": [
    "results_retweet.summary()"
   ]
  },
  {
   "cell_type": "code",
   "execution_count": 57,
   "metadata": {},
   "outputs": [
    {
     "data": {
      "text/html": [
       "<table class=\"simpletable\">\n",
       "<caption>OLS Regression Results</caption>\n",
       "<tr>\n",
       "  <th>Dep. Variable:</th>     <td>favorite_count</td>  <th>  R-squared:         </th> <td>   0.019</td> \n",
       "</tr>\n",
       "<tr>\n",
       "  <th>Model:</th>                   <td>OLS</td>       <th>  Adj. R-squared:    </th> <td>   0.016</td> \n",
       "</tr>\n",
       "<tr>\n",
       "  <th>Method:</th>             <td>Least Squares</td>  <th>  F-statistic:       </th> <td>   6.697</td> \n",
       "</tr>\n",
       "<tr>\n",
       "  <th>Date:</th>             <td>Sat, 20 Feb 2021</td> <th>  Prob (F-statistic):</th> <td>4.90e-07</td> \n",
       "</tr>\n",
       "<tr>\n",
       "  <th>Time:</th>                 <td>17:11:24</td>     <th>  Log-Likelihood:    </th> <td> -22503.</td> \n",
       "</tr>\n",
       "<tr>\n",
       "  <th>No. Observations:</th>      <td>  2087</td>      <th>  AIC:               </th> <td>4.502e+04</td>\n",
       "</tr>\n",
       "<tr>\n",
       "  <th>Df Residuals:</th>          <td>  2080</td>      <th>  BIC:               </th> <td>4.506e+04</td>\n",
       "</tr>\n",
       "<tr>\n",
       "  <th>Df Model:</th>              <td>     6</td>      <th>                     </th>     <td> </td>    \n",
       "</tr>\n",
       "<tr>\n",
       "  <th>Covariance Type:</th>      <td>nonrobust</td>    <th>                     </th>     <td> </td>    \n",
       "</tr>\n",
       "</table>\n",
       "<table class=\"simpletable\">\n",
       "<tr>\n",
       "        <td></td>           <th>coef</th>     <th>std err</th>      <th>t</th>      <th>P>|t|</th>  <th>[0.025</th>    <th>0.975]</th>  \n",
       "</tr>\n",
       "<tr>\n",
       "  <th>pupper</th>        <td>-1579.1041</td> <td>  833.091</td> <td>   -1.895</td> <td> 0.058</td> <td>-3212.884</td> <td>   54.675</td>\n",
       "</tr>\n",
       "<tr>\n",
       "  <th>puppo</th>         <td> 1.221e+04</td> <td> 2449.249</td> <td>    4.985</td> <td> 0.000</td> <td> 7405.099</td> <td>  1.7e+04</td>\n",
       "</tr>\n",
       "<tr>\n",
       "  <th>floofer</th>       <td> 1693.3777</td> <td> 3900.528</td> <td>    0.434</td> <td> 0.664</td> <td>-5955.969</td> <td> 9342.724</td>\n",
       "</tr>\n",
       "<tr>\n",
       "  <th>doggo,floofer</th> <td> 7317.3777</td> <td> 1.17e+04</td> <td>    0.627</td> <td> 0.531</td> <td>-1.56e+04</td> <td> 3.02e+04</td>\n",
       "</tr>\n",
       "<tr>\n",
       "  <th>doggo,pupper</th>  <td> 4440.9333</td> <td> 3900.528</td> <td>    1.139</td> <td> 0.255</td> <td>-3208.413</td> <td> 1.21e+04</td>\n",
       "</tr>\n",
       "<tr>\n",
       "  <th>doggo,puppo</th>   <td> 3.524e+04</td> <td> 1.17e+04</td> <td>    3.019</td> <td> 0.003</td> <td> 1.23e+04</td> <td> 5.81e+04</td>\n",
       "</tr>\n",
       "<tr>\n",
       "  <th>intercept</th>     <td> 8078.6223</td> <td>  273.315</td> <td>   29.558</td> <td> 0.000</td> <td> 7542.623</td> <td> 8614.622</td>\n",
       "</tr>\n",
       "</table>\n",
       "<table class=\"simpletable\">\n",
       "<tr>\n",
       "  <th>Omnibus:</th>       <td>1940.690</td> <th>  Durbin-Watson:     </th> <td>   1.260</td> \n",
       "</tr>\n",
       "<tr>\n",
       "  <th>Prob(Omnibus):</th>  <td> 0.000</td>  <th>  Jarque-Bera (JB):  </th> <td>90044.732</td>\n",
       "</tr>\n",
       "<tr>\n",
       "  <th>Skew:</th>           <td> 4.341</td>  <th>  Prob(JB):          </th> <td>    0.00</td> \n",
       "</tr>\n",
       "<tr>\n",
       "  <th>Kurtosis:</th>       <td>33.986</td>  <th>  Cond. No.          </th> <td>    46.0</td> \n",
       "</tr>\n",
       "</table><br/><br/>Notes:<br/>[1] Standard Errors assume that the covariance matrix of the errors is correctly specified."
      ],
      "text/plain": [
       "<class 'statsmodels.iolib.summary.Summary'>\n",
       "\"\"\"\n",
       "                            OLS Regression Results                            \n",
       "==============================================================================\n",
       "Dep. Variable:         favorite_count   R-squared:                       0.019\n",
       "Model:                            OLS   Adj. R-squared:                  0.016\n",
       "Method:                 Least Squares   F-statistic:                     6.697\n",
       "Date:                Sat, 20 Feb 2021   Prob (F-statistic):           4.90e-07\n",
       "Time:                        17:11:24   Log-Likelihood:                -22503.\n",
       "No. Observations:                2087   AIC:                         4.502e+04\n",
       "Df Residuals:                    2080   BIC:                         4.506e+04\n",
       "Df Model:                           6                                         \n",
       "Covariance Type:            nonrobust                                         \n",
       "=================================================================================\n",
       "                    coef    std err          t      P>|t|      [0.025      0.975]\n",
       "---------------------------------------------------------------------------------\n",
       "pupper        -1579.1041    833.091     -1.895      0.058   -3212.884      54.675\n",
       "puppo          1.221e+04   2449.249      4.985      0.000    7405.099     1.7e+04\n",
       "floofer        1693.3777   3900.528      0.434      0.664   -5955.969    9342.724\n",
       "doggo,floofer  7317.3777   1.17e+04      0.627      0.531   -1.56e+04    3.02e+04\n",
       "doggo,pupper   4440.9333   3900.528      1.139      0.255   -3208.413    1.21e+04\n",
       "doggo,puppo    3.524e+04   1.17e+04      3.019      0.003    1.23e+04    5.81e+04\n",
       "intercept      8078.6223    273.315     29.558      0.000    7542.623    8614.622\n",
       "==============================================================================\n",
       "Omnibus:                     1940.690   Durbin-Watson:                   1.260\n",
       "Prob(Omnibus):                  0.000   Jarque-Bera (JB):            90044.732\n",
       "Skew:                           4.341   Prob(JB):                         0.00\n",
       "Kurtosis:                      33.986   Cond. No.                         46.0\n",
       "==============================================================================\n",
       "\n",
       "Notes:\n",
       "[1] Standard Errors assume that the covariance matrix of the errors is correctly specified.\n",
       "\"\"\""
      ]
     },
     "execution_count": 57,
     "metadata": {},
     "output_type": "execute_result"
    }
   ],
   "source": [
    "results_favorite.summary()"
   ]
  },
  {
   "cell_type": "markdown",
   "metadata": {},
   "source": [
    "Lets look at how the ratings compares with the retweets and favorite counts. To do this we will bin the ratings then look at the mean of the retweet and favorite count."
   ]
  },
  {
   "cell_type": "code",
   "execution_count": 58,
   "metadata": {},
   "outputs": [
    {
     "name": "stderr",
     "output_type": "stream",
     "text": [
      "<ipython-input-58-4f64e5d25438>:3: SettingWithCopyWarning: \n",
      "A value is trying to be set on a copy of a slice from a DataFrame.\n",
      "Try using .loc[row_indexer,col_indexer] = value instead\n",
      "\n",
      "See the caveats in the documentation: https://pandas.pydata.org/pandas-docs/stable/user_guide/indexing.html#returning-a-view-versus-a-copy\n",
      "  ratings_with_counts['bins'] = pd.cut(ratings_with_counts['rating_out_of_10'],\n"
     ]
    }
   ],
   "source": [
    "ratings_with_counts = tweets_with_img_pred[['rating_out_of_10', 'retweet_count', 'favorite_count']]\n",
    "\n",
    "ratings_with_counts['bins'] = pd.cut(ratings_with_counts['rating_out_of_10'], \n",
    "                                     bins=[0, 5, 10, 15, 20, 25, 1500, 2000])\n"
   ]
  },
  {
   "cell_type": "code",
   "execution_count": 59,
   "metadata": {},
   "outputs": [
    {
     "data": {
      "text/html": [
       "<div>\n",
       "<style scoped>\n",
       "    .dataframe tbody tr th:only-of-type {\n",
       "        vertical-align: middle;\n",
       "    }\n",
       "\n",
       "    .dataframe tbody tr th {\n",
       "        vertical-align: top;\n",
       "    }\n",
       "\n",
       "    .dataframe thead th {\n",
       "        text-align: right;\n",
       "    }\n",
       "</style>\n",
       "<table border=\"1\" class=\"dataframe\">\n",
       "  <thead>\n",
       "    <tr style=\"text-align: right;\">\n",
       "      <th></th>\n",
       "      <th>retweet_count</th>\n",
       "      <th>favorite_count</th>\n",
       "    </tr>\n",
       "    <tr>\n",
       "      <th>bins</th>\n",
       "      <th></th>\n",
       "      <th></th>\n",
       "    </tr>\n",
       "  </thead>\n",
       "  <tbody>\n",
       "    <tr>\n",
       "      <th>(0, 5]</th>\n",
       "      <td>1077.162500</td>\n",
       "      <td>2916.675000</td>\n",
       "    </tr>\n",
       "    <tr>\n",
       "      <th>(5, 10]</th>\n",
       "      <td>1063.967448</td>\n",
       "      <td>3068.106771</td>\n",
       "    </tr>\n",
       "    <tr>\n",
       "      <th>(10, 15]</th>\n",
       "      <td>3353.398050</td>\n",
       "      <td>11550.102356</td>\n",
       "    </tr>\n",
       "    <tr>\n",
       "      <th>(15, 20]</th>\n",
       "      <td>NaN</td>\n",
       "      <td>NaN</td>\n",
       "    </tr>\n",
       "    <tr>\n",
       "      <th>(20, 25]</th>\n",
       "      <td>NaN</td>\n",
       "      <td>NaN</td>\n",
       "    </tr>\n",
       "    <tr>\n",
       "      <th>(25, 1500]</th>\n",
       "      <td>3002.500000</td>\n",
       "      <td>9448.666667</td>\n",
       "    </tr>\n",
       "    <tr>\n",
       "      <th>(1500, 2000]</th>\n",
       "      <td>2378.000000</td>\n",
       "      <td>4952.000000</td>\n",
       "    </tr>\n",
       "  </tbody>\n",
       "</table>\n",
       "</div>"
      ],
      "text/plain": [
       "              retweet_count  favorite_count\n",
       "bins                                       \n",
       "(0, 5]          1077.162500     2916.675000\n",
       "(5, 10]         1063.967448     3068.106771\n",
       "(10, 15]        3353.398050    11550.102356\n",
       "(15, 20]                NaN             NaN\n",
       "(20, 25]                NaN             NaN\n",
       "(25, 1500]      3002.500000     9448.666667\n",
       "(1500, 2000]    2378.000000     4952.000000"
      ]
     },
     "execution_count": 59,
     "metadata": {},
     "output_type": "execute_result"
    }
   ],
   "source": [
    "ratings_with_counts.groupby('bins')[['retweet_count', 'favorite_count']].mean()"
   ]
  },
  {
   "cell_type": "markdown",
   "metadata": {},
   "source": [
    "Based on looking at the groups of rating and the mean of each group we see that high mean counts are in the bins with higher rating. Lets look at a scatter plot to see the individual points."
   ]
  },
  {
   "cell_type": "code",
   "execution_count": 60,
   "metadata": {},
   "outputs": [],
   "source": [
    "import matplotlib.pyplot as plt\n",
    "import seaborn as sb\n",
    "%matplotlib inline"
   ]
  },
  {
   "cell_type": "code",
   "execution_count": 61,
   "metadata": {},
   "outputs": [
    {
     "data": {
      "text/plain": [
       "Text(0, 0.5, 'Retweet Count')"
      ]
     },
     "execution_count": 61,
     "metadata": {},
     "output_type": "execute_result"
    },
    {
     "data": {
      "image/png": "[encoded data removed]",
      "text/plain": [
       "<Figure size 432x288 with 1 Axes>"
      ]
     },
     "metadata": {
      "needs_background": "light"
     },
     "output_type": "display_data"
    }
   ],
   "source": [
    "sb.scatterplot(data=ratings_with_counts, x='rating_out_of_10', y ='retweet_count', alpha=.2);\n",
    "#we will set the x limit to be between 0 and 15 since we know that there are a few outliers based on our group\n",
    "# additionally we will set a limit on the y axis bewteen 0 and 30000\n",
    "plt.xlim([0, 15]);\n",
    "plt.ylim([0, 30000])\n",
    "plt.title('Retweet Count');\n",
    "plt.xlabel('Rating (out of 10)')\n",
    "plt.ylabel('Retweet Count')"
   ]
  },
  {
   "cell_type": "code",
   "execution_count": 62,
   "metadata": {},
   "outputs": [
    {
     "data": {
      "text/plain": [
       "Text(0, 0.5, 'Favorite Count')"
      ]
     },
     "execution_count": 62,
     "metadata": {},
     "output_type": "execute_result"
    },
    {
     "data": {
      "image/png": "[encoded data removed]",
      "text/plain": [
       "<Figure size 432x288 with 1 Axes>"
      ]
     },
     "metadata": {
      "needs_background": "light"
     },
     "output_type": "display_data"
    }
   ],
   "source": [
    "sb.scatterplot(data=ratings_with_counts, x='rating_out_of_10', y ='favorite_count', alpha=.2);\n",
    "plt.xlim([0, 15]);\n",
    "plt.ylim([0, 60000])\n",
    "plt.title('Favorite Count');\n",
    "plt.xlabel('Rating (out of 10)')\n",
    "plt.ylabel('Favorite Count')"
   ]
  },
  {
   "cell_type": "markdown",
   "metadata": {},
   "source": [
    "From these visuals along with our group by on means we can see that there does appear to be a general relationship between a higher rating and greater retweet and favorite counts."
   ]
  },
  {
   "cell_type": "markdown",
   "metadata": {},
   "source": [
    "Now lets look at based on our predicted dog values which has the highest rating/retweet/favorite values."
   ]
  },
  {
   "cell_type": "code",
   "execution_count": 63,
   "metadata": {},
   "outputs": [
    {
     "data": {
      "image/png": "[encoded data removed]",
      "text/plain": [
       "<Figure size 2160x1440 with 3 Axes>"
      ]
     },
     "metadata": {
      "needs_background": "light"
     },
     "output_type": "display_data"
    }
   ],
   "source": [
    "breed_groups = tweets_with_img_pred.query('~prediction.isnull()').groupby('prediction')[['rating_out_of_10', 'retweet_count', 'favorite_count']].mean()\n",
    "breed_groups.index = breed_groups.index.str.replace(\"_\", \" \").str.title()\n",
    "#lets graph the top 10 for each of the 3 metrics.\n",
    "# to do this we will sort by each column grab the first 10 and put in a set then graph each of the metrics\n",
    "\n",
    "\n",
    "cols = ['rating_out_of_10', 'retweet_count', 'favorite_count']\n",
    "cols_pretty = ['Rating (out of 10)', 'Retweet Count', 'Favorite Count']\n",
    "\n",
    "plt.figure(figsize=(30, 20));\n",
    "plt.subplots_adjust(top=1.5, hspace=.4)\n",
    "\n",
    "for i in range(3):\n",
    "    plt.subplot(3, 1, i+1);\n",
    "    top_performers = breed_groups.sort_values(by=[cols[i]], ascending=False).iloc[0:10]\n",
    "    plt.bar(top_performers.index, top_performers[cols[i]]);\n",
    "    plt.ylabel(cols_pretty[i], fontsize=18);\n",
    "    plt.xticks(rotation=60, fontsize=18);\n",
    "\n",
    "plt.show();"
   ]
  }
 ],
 "metadata": {
  "kernelspec": {
   "display_name": "Python [conda env:wranlingproject]",
   "language": "python",
   "name": "conda-env-wranlingproject-py"
  },
  "language_info": {
   "codemirror_mode": {
    "name": "ipython",
    "version": 3
   },
   "file_extension": ".py",
   "mimetype": "text/x-python",
   "name": "python",
   "nbconvert_exporter": "python",
   "pygments_lexer": "ipython3",
   "version": "3.8.5"
  }
 },
 "nbformat": 4,
 "nbformat_minor": 4
}
