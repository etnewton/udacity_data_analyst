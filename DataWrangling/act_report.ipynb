{
 "cells": [
  {
   "cell_type": "markdown",
   "metadata": {},
   "source": [
    "# An of @dog_rates Tweets\n",
    "\n",
    "Analysis was performed on subset of tweets from user @dog_rates from the twitter platform. This account tweets out photos of dogs and provided them a rating, normally out of 10 and normally greater than 10 out of 10. The twitter data we have was cleaned up and ultimately enhanced using an image prediction module to provide predictions on dog breed in the photos.\n",
    "\n",
    "Of this dataset we examined 3 questions -\n",
    "\n",
    "1. Which of the 4 dog states (doggo, floofer, pupper, puppo) result in a higher retweet and favorite count?\n",
    "2. Does the rating appear to lead to a higher retweet and favorite count?\n",
    "3. Of the predicted dog breeds which has the highest rating?\n",
    "\n",
    "First lets load in our dataset then we can show the result of our analysis."
   ]
  },
  {
   "cell_type": "markdown",
   "metadata": {},
   "source": [
    "To start we look at the 4 different dog states in our dataset. But first we should probably define what these flags are. We will use the below extract from the Dogtionary which is included in the <a href='https://www.amazon.com/WeRateDogs-Most-Hilarious-Adorable-Youve/dp/1510717145'>#WeRateDogs book</a>.\n",
    "\n",
    "![title](img/dogtionary-combined.png)"
   ]
  },
  {
   "cell_type": "markdown",
   "metadata": {},
   "source": [
    "![title](img/dog_state_means.png)"
   ]
  },
  {
   "cell_type": "markdown",
   "metadata": {},
   "source": [
    "From here we see that the puppo state has the highest mean retweet and favorite count if that state is the only one the dog is set as. We see second highest mean is doggo. Lets looks at some regession modeling results.\n",
    "\n",
    "## Retweet count regession\n",
    "\n",
    "![title](img/rewteet_logistic.png)"
   ]
  },
  {
   "cell_type": "markdown",
   "metadata": {},
   "source": [
    "## Favorite count regession\n",
    "\n",
    "![title](img/favorite_logistic.png)"
   ]
  },
  {
   "cell_type": "markdown",
   "metadata": {},
   "source": [
    "From our regression models we can see that in our retweet model puppo seems to have the largest positive affect when the dog in the tweet is in only that state. Likewise we see that in our favorite model also. If we included our dual states we would see that those have larger effects however those are fewer in number."
   ]
  },
  {
   "cell_type": "markdown",
   "metadata": {},
   "source": [
    "Now lets look at how the rating @dog_rates is providing compares to the retweet and favorite counts. Note there are a small number of outlier ratings that are very large which we will exclude in our visuals."
   ]
  },
  {
   "cell_type": "markdown",
   "metadata": {},
   "source": [
    "![title](img/retweet_graph.png)"
   ]
  },
  {
   "cell_type": "markdown",
   "metadata": {},
   "source": [
    "![title](img/favorite_graph.png)"
   ]
  },
  {
   "cell_type": "markdown",
   "metadata": {},
   "source": [
    "From these scatterplots we can see that generally a higher rating from the user does look like there will be a higher retweet and favorite count.\n",
    "\n",
    "Finally lets look at our predicted dog breeds from our images."
   ]
  },
  {
   "cell_type": "markdown",
   "metadata": {},
   "source": [
    "### Breed with highest rating\n",
    "![title](img/hightest_rating.png)\n",
    "### Breed with retweet count\n",
    "![title](img/highest_retweet.png)\n",
    "### Breed with favorite count\n",
    "![title](img/highest_favorite.png)"
   ]
  },
  {
   "cell_type": "markdown",
   "metadata": {},
   "source": [
    "From these graphs we see for ratings means the 3 top dog breeds are -\n",
    "<center>The Clumber</center>\n",
    "<img src=\"https://pbs.twimg.com/media/Cswbc2yWcAAVsCJ.jpg\" style=\"{width: 200px; height: 200px}\"/>\n",
    "\n",
    "<center>The Borzoi</center>\n",
    "<img src=\"https://pbs.twimg.com/media/CUNniSlUYAEj1Jl.jpg\" style=\"{width: 200px; height: 200px}\"/>\n",
    "\n",
    "<center>The Bouvier Des Flandres</center>\n",
    "<img src=\"https://pbs.twimg.com/ext_tw_video_thumb/861288473281437696/pu/img/RERGmRgPyaaaB-tB.jpg\" style=\"{width: 200px; height: 200px}\"/>"
   ]
  },
  {
   "cell_type": "markdown",
   "metadata": {},
   "source": [
    "3 top dog breeds for highest retweet mean are -\n",
    "<center>The Bedlington Terrier</center>\n",
    "<img src=\"https://pbs.twimg.com/media/C_EyeKuXkAAdxY-.jpg\" style=\"{width: 200px; height: 200px}\"/>\n",
    "\n",
    "<center>The Afghan Hound</center>\n",
    "<img src=\"https://pbs.twimg.com/ext_tw_video_thumb/841311812641533952/pu/img/sBUGt8u76n9azPWI.jpg\" style=\"{width: 200px; height: 200px}\"/>\n",
    "\n",
    "<center>The Standard Poodle</center>\n",
    "<img src=\"https://pbs.twimg.com/media/C9AohFoWsAUmxDs.jpg\" style=\"{width: 200px; height: 200px}\"/>"
   ]
  },
  {
   "cell_type": "markdown",
   "metadata": {},
   "source": [
    "3 top dog breeds for highest favorite mean are -\n",
    "<center>The Bedlington Terrier</center>\n",
    "<img src=\"https://pbs.twimg.com/media/C_EyeKuXkAAdxY-.jpg\" style=\"{width: 200px; height: 200px}\"/>\n",
    "\n",
    "<center>The Saluki</center>\n",
    "<img src=\"https://pbs.twimg.com/media/DDxPFwbWAAEbVVR.jpg\" style=\"{width: 200px; height: 200px}\"/>\n",
    "\n",
    "<center>The French Bulldog</center>\n",
    "<img src=\"https://pbs.twimg.com/media/DFl99B1WsAITKsg.jpg\" style=\"{width: 200px; height: 200px}\"/>"
   ]
  },
  {
   "cell_type": "markdown",
   "metadata": {},
   "source": [
    "From these images we can see that our image prediction model is not 100% accurate."
   ]
  }
 ],
 "metadata": {
  "kernelspec": {
   "display_name": "Python 3",
   "language": "python",
   "name": "python3"
  },
  "language_info": {
   "codemirror_mode": {
    "name": "ipython",
    "version": 3
   },
   "file_extension": ".py",
   "mimetype": "text/x-python",
   "name": "python",
   "nbconvert_exporter": "python",
   "pygments_lexer": "ipython3",
   "version": "3.6.12"
  }
 },
 "nbformat": 4,
 "nbformat_minor": 4
}
